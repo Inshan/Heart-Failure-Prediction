{
 "cells": [
  {
   "cell_type": "markdown",
   "id": "c1ea0dba",
   "metadata": {
    "papermill": {
     "duration": 0.015716,
     "end_time": "2023-02-05T09:30:53.840140",
     "exception": false,
     "start_time": "2023-02-05T09:30:53.824424",
     "status": "completed"
    },
    "tags": []
   },
   "source": [
    "# Heart Failure Prediction"
   ]
  },
  {
   "cell_type": "code",
   "execution_count": 215,
   "id": "713b9327",
   "metadata": {
    "_cell_guid": "b1076dfc-b9ad-4769-8c92-a6c4dae69d19",
    "_uuid": "8f2839f25d086af736a60e9eeb907d3b93b6e0e5",
    "execution": {
     "iopub.execute_input": "2023-02-05T09:30:53.911480Z",
     "iopub.status.busy": "2023-02-05T09:30:53.911013Z",
     "iopub.status.idle": "2023-02-05T09:30:54.946283Z",
     "shell.execute_reply": "2023-02-05T09:30:54.945065Z"
    },
    "papermill": {
     "duration": 1.058431,
     "end_time": "2023-02-05T09:30:54.949607",
     "exception": false,
     "start_time": "2023-02-05T09:30:53.891176",
     "status": "completed"
    },
    "tags": []
   },
   "outputs": [],
   "source": [
    "import numpy as np \n",
    "import pandas as pd\n",
    "\n",
    "import matplotlib.pyplot as plt\n",
    "import seaborn as sns\n",
    "%matplotlib inline\n",
    "plt.style.use('ggplot')"
   ]
  },
  {
   "cell_type": "markdown",
   "id": "b0e5adb3",
   "metadata": {
    "papermill": {
     "duration": 0.012612,
     "end_time": "2023-02-05T09:30:54.975393",
     "exception": false,
     "start_time": "2023-02-05T09:30:54.962781",
     "status": "completed"
    },
    "tags": []
   },
   "source": [
    "# About the Data\n",
    "\n",
    "- Age of the Patient, Between 40 and 95\n",
    "- Anaemia, binary, does the patient has low red-blood cells and iron levels\n",
    "- creatinine phosphokinase, int, Level of the CPK enzyme in the blood (mcg/L)\n",
    "- diabetes, binary, does the patiens has anormaly high blood sugar?\n",
    "- ejection_fraction, int, Percentage of blood leaving the heart at each contraction (percentage)\n",
    "- high_blood_pressure, bool\n",
    "- platelets, float, Platelets in the blood (kiloplatelets/mL)\n",
    "- serum creatinine, float, Level of serum creatinine in the blood (mg/dL)\n",
    "- serum sodium, float, Level of serum sodium in the blood (mEq/L)\n",
    "- sex, binary, 1 for men, 0 for women\n",
    "- smoking, binary, 1 for smokers, 0 or non-smokers\n",
    "- time, int, days-after the heart failure event\n",
    "- DEATH_EVENT, binary, did the patient die during the follow-period"
   ]
  },
  {
   "cell_type": "code",
   "execution_count": 4,
   "id": "f826ced6",
   "metadata": {
    "execution": {
     "iopub.execute_input": "2023-02-05T09:30:55.003989Z",
     "iopub.status.busy": "2023-02-05T09:30:55.003531Z",
     "iopub.status.idle": "2023-02-05T09:30:55.045731Z",
     "shell.execute_reply": "2023-02-05T09:30:55.044685Z"
    },
    "papermill": {
     "duration": 0.059752,
     "end_time": "2023-02-05T09:30:55.048715",
     "exception": false,
     "start_time": "2023-02-05T09:30:54.988963",
     "status": "completed"
    },
    "tags": []
   },
   "outputs": [
    {
     "data": {
      "text/html": [
       "<div>\n",
       "<style scoped>\n",
       "    .dataframe tbody tr th:only-of-type {\n",
       "        vertical-align: middle;\n",
       "    }\n",
       "\n",
       "    .dataframe tbody tr th {\n",
       "        vertical-align: top;\n",
       "    }\n",
       "\n",
       "    .dataframe thead th {\n",
       "        text-align: right;\n",
       "    }\n",
       "</style>\n",
       "<table border=\"1\" class=\"dataframe\">\n",
       "  <thead>\n",
       "    <tr style=\"text-align: right;\">\n",
       "      <th></th>\n",
       "      <th>age</th>\n",
       "      <th>anaemia</th>\n",
       "      <th>creatinine_phosphokinase</th>\n",
       "      <th>diabetes</th>\n",
       "      <th>ejection_fraction</th>\n",
       "      <th>high_blood_pressure</th>\n",
       "      <th>platelets</th>\n",
       "      <th>serum_creatinine</th>\n",
       "      <th>serum_sodium</th>\n",
       "      <th>sex</th>\n",
       "      <th>smoking</th>\n",
       "      <th>time</th>\n",
       "      <th>DEATH_EVENT</th>\n",
       "    </tr>\n",
       "  </thead>\n",
       "  <tbody>\n",
       "    <tr>\n",
       "      <th>0</th>\n",
       "      <td>75.0</td>\n",
       "      <td>0</td>\n",
       "      <td>582</td>\n",
       "      <td>0</td>\n",
       "      <td>20</td>\n",
       "      <td>1</td>\n",
       "      <td>265000.00</td>\n",
       "      <td>1.9</td>\n",
       "      <td>130</td>\n",
       "      <td>1</td>\n",
       "      <td>0</td>\n",
       "      <td>4</td>\n",
       "      <td>1</td>\n",
       "    </tr>\n",
       "    <tr>\n",
       "      <th>1</th>\n",
       "      <td>55.0</td>\n",
       "      <td>0</td>\n",
       "      <td>7861</td>\n",
       "      <td>0</td>\n",
       "      <td>38</td>\n",
       "      <td>0</td>\n",
       "      <td>263358.03</td>\n",
       "      <td>1.1</td>\n",
       "      <td>136</td>\n",
       "      <td>1</td>\n",
       "      <td>0</td>\n",
       "      <td>6</td>\n",
       "      <td>1</td>\n",
       "    </tr>\n",
       "    <tr>\n",
       "      <th>2</th>\n",
       "      <td>65.0</td>\n",
       "      <td>0</td>\n",
       "      <td>146</td>\n",
       "      <td>0</td>\n",
       "      <td>20</td>\n",
       "      <td>0</td>\n",
       "      <td>162000.00</td>\n",
       "      <td>1.3</td>\n",
       "      <td>129</td>\n",
       "      <td>1</td>\n",
       "      <td>1</td>\n",
       "      <td>7</td>\n",
       "      <td>1</td>\n",
       "    </tr>\n",
       "    <tr>\n",
       "      <th>3</th>\n",
       "      <td>50.0</td>\n",
       "      <td>1</td>\n",
       "      <td>111</td>\n",
       "      <td>0</td>\n",
       "      <td>20</td>\n",
       "      <td>0</td>\n",
       "      <td>210000.00</td>\n",
       "      <td>1.9</td>\n",
       "      <td>137</td>\n",
       "      <td>1</td>\n",
       "      <td>0</td>\n",
       "      <td>7</td>\n",
       "      <td>1</td>\n",
       "    </tr>\n",
       "    <tr>\n",
       "      <th>4</th>\n",
       "      <td>65.0</td>\n",
       "      <td>1</td>\n",
       "      <td>160</td>\n",
       "      <td>1</td>\n",
       "      <td>20</td>\n",
       "      <td>0</td>\n",
       "      <td>327000.00</td>\n",
       "      <td>2.7</td>\n",
       "      <td>116</td>\n",
       "      <td>0</td>\n",
       "      <td>0</td>\n",
       "      <td>8</td>\n",
       "      <td>1</td>\n",
       "    </tr>\n",
       "  </tbody>\n",
       "</table>\n",
       "</div>"
      ],
      "text/plain": [
       "    age  anaemia  creatinine_phosphokinase  diabetes  ejection_fraction  \\\n",
       "0  75.0        0                       582         0                 20   \n",
       "1  55.0        0                      7861         0                 38   \n",
       "2  65.0        0                       146         0                 20   \n",
       "3  50.0        1                       111         0                 20   \n",
       "4  65.0        1                       160         1                 20   \n",
       "\n",
       "   high_blood_pressure  platelets  serum_creatinine  serum_sodium  sex  \\\n",
       "0                    1  265000.00               1.9           130    1   \n",
       "1                    0  263358.03               1.1           136    1   \n",
       "2                    0  162000.00               1.3           129    1   \n",
       "3                    0  210000.00               1.9           137    1   \n",
       "4                    0  327000.00               2.7           116    0   \n",
       "\n",
       "   smoking  time  DEATH_EVENT  \n",
       "0        0     4            1  \n",
       "1        0     6            1  \n",
       "2        1     7            1  \n",
       "3        0     7            1  \n",
       "4        0     8            1  "
      ]
     },
     "execution_count": 4,
     "metadata": {},
     "output_type": "execute_result"
    }
   ],
   "source": [
    "df = pd.read_csv('heart_failure_clinical_records_dataset.csv')\n",
    "df.head()"
   ]
  },
  {
   "cell_type": "code",
   "execution_count": 3,
   "id": "d99b9233",
   "metadata": {
    "execution": {
     "iopub.execute_input": "2023-02-05T09:30:55.079034Z",
     "iopub.status.busy": "2023-02-05T09:30:55.078621Z",
     "iopub.status.idle": "2023-02-05T09:30:55.106832Z",
     "shell.execute_reply": "2023-02-05T09:30:55.105363Z"
    },
    "papermill": {
     "duration": 0.046915,
     "end_time": "2023-02-05T09:30:55.109565",
     "exception": false,
     "start_time": "2023-02-05T09:30:55.062650",
     "status": "completed"
    },
    "tags": []
   },
   "outputs": [
    {
     "name": "stdout",
     "output_type": "stream",
     "text": [
      "<class 'pandas.core.frame.DataFrame'>\n",
      "RangeIndex: 299 entries, 0 to 298\n",
      "Data columns (total 13 columns):\n",
      " #   Column                    Non-Null Count  Dtype  \n",
      "---  ------                    --------------  -----  \n",
      " 0   age                       299 non-null    float64\n",
      " 1   anaemia                   299 non-null    int64  \n",
      " 2   creatinine_phosphokinase  299 non-null    int64  \n",
      " 3   diabetes                  299 non-null    int64  \n",
      " 4   ejection_fraction         299 non-null    int64  \n",
      " 5   high_blood_pressure       299 non-null    int64  \n",
      " 6   platelets                 299 non-null    float64\n",
      " 7   serum_creatinine          299 non-null    float64\n",
      " 8   serum_sodium              299 non-null    int64  \n",
      " 9   sex                       299 non-null    int64  \n",
      " 10  smoking                   299 non-null    int64  \n",
      " 11  time                      299 non-null    int64  \n",
      " 12  DEATH_EVENT               299 non-null    int64  \n",
      "dtypes: float64(3), int64(10)\n",
      "memory usage: 30.5 KB\n"
     ]
    }
   ],
   "source": [
    "df.info()"
   ]
  },
  {
   "cell_type": "code",
   "execution_count": 4,
   "id": "b29bd068",
   "metadata": {
    "execution": {
     "iopub.execute_input": "2023-02-05T09:30:55.137708Z",
     "iopub.status.busy": "2023-02-05T09:30:55.137243Z",
     "iopub.status.idle": "2023-02-05T09:30:55.189474Z",
     "shell.execute_reply": "2023-02-05T09:30:55.188129Z"
    },
    "papermill": {
     "duration": 0.069328,
     "end_time": "2023-02-05T09:30:55.192169",
     "exception": false,
     "start_time": "2023-02-05T09:30:55.122841",
     "status": "completed"
    },
    "tags": []
   },
   "outputs": [
    {
     "data": {
      "text/html": [
       "<div>\n",
       "<style scoped>\n",
       "    .dataframe tbody tr th:only-of-type {\n",
       "        vertical-align: middle;\n",
       "    }\n",
       "\n",
       "    .dataframe tbody tr th {\n",
       "        vertical-align: top;\n",
       "    }\n",
       "\n",
       "    .dataframe thead th {\n",
       "        text-align: right;\n",
       "    }\n",
       "</style>\n",
       "<table border=\"1\" class=\"dataframe\">\n",
       "  <thead>\n",
       "    <tr style=\"text-align: right;\">\n",
       "      <th></th>\n",
       "      <th>age</th>\n",
       "      <th>anaemia</th>\n",
       "      <th>creatinine_phosphokinase</th>\n",
       "      <th>diabetes</th>\n",
       "      <th>ejection_fraction</th>\n",
       "      <th>high_blood_pressure</th>\n",
       "      <th>platelets</th>\n",
       "      <th>serum_creatinine</th>\n",
       "      <th>serum_sodium</th>\n",
       "      <th>sex</th>\n",
       "      <th>smoking</th>\n",
       "      <th>time</th>\n",
       "      <th>DEATH_EVENT</th>\n",
       "    </tr>\n",
       "  </thead>\n",
       "  <tbody>\n",
       "    <tr>\n",
       "      <th>count</th>\n",
       "      <td>299.000000</td>\n",
       "      <td>299.000000</td>\n",
       "      <td>299.000000</td>\n",
       "      <td>299.000000</td>\n",
       "      <td>299.000000</td>\n",
       "      <td>299.000000</td>\n",
       "      <td>299.000000</td>\n",
       "      <td>299.00000</td>\n",
       "      <td>299.000000</td>\n",
       "      <td>299.000000</td>\n",
       "      <td>299.00000</td>\n",
       "      <td>299.000000</td>\n",
       "      <td>299.00000</td>\n",
       "    </tr>\n",
       "    <tr>\n",
       "      <th>mean</th>\n",
       "      <td>60.833893</td>\n",
       "      <td>0.431438</td>\n",
       "      <td>581.839465</td>\n",
       "      <td>0.418060</td>\n",
       "      <td>38.083612</td>\n",
       "      <td>0.351171</td>\n",
       "      <td>263358.029264</td>\n",
       "      <td>1.39388</td>\n",
       "      <td>136.625418</td>\n",
       "      <td>0.648829</td>\n",
       "      <td>0.32107</td>\n",
       "      <td>130.260870</td>\n",
       "      <td>0.32107</td>\n",
       "    </tr>\n",
       "    <tr>\n",
       "      <th>std</th>\n",
       "      <td>11.894809</td>\n",
       "      <td>0.496107</td>\n",
       "      <td>970.287881</td>\n",
       "      <td>0.494067</td>\n",
       "      <td>11.834841</td>\n",
       "      <td>0.478136</td>\n",
       "      <td>97804.236869</td>\n",
       "      <td>1.03451</td>\n",
       "      <td>4.412477</td>\n",
       "      <td>0.478136</td>\n",
       "      <td>0.46767</td>\n",
       "      <td>77.614208</td>\n",
       "      <td>0.46767</td>\n",
       "    </tr>\n",
       "    <tr>\n",
       "      <th>min</th>\n",
       "      <td>40.000000</td>\n",
       "      <td>0.000000</td>\n",
       "      <td>23.000000</td>\n",
       "      <td>0.000000</td>\n",
       "      <td>14.000000</td>\n",
       "      <td>0.000000</td>\n",
       "      <td>25100.000000</td>\n",
       "      <td>0.50000</td>\n",
       "      <td>113.000000</td>\n",
       "      <td>0.000000</td>\n",
       "      <td>0.00000</td>\n",
       "      <td>4.000000</td>\n",
       "      <td>0.00000</td>\n",
       "    </tr>\n",
       "    <tr>\n",
       "      <th>25%</th>\n",
       "      <td>51.000000</td>\n",
       "      <td>0.000000</td>\n",
       "      <td>116.500000</td>\n",
       "      <td>0.000000</td>\n",
       "      <td>30.000000</td>\n",
       "      <td>0.000000</td>\n",
       "      <td>212500.000000</td>\n",
       "      <td>0.90000</td>\n",
       "      <td>134.000000</td>\n",
       "      <td>0.000000</td>\n",
       "      <td>0.00000</td>\n",
       "      <td>73.000000</td>\n",
       "      <td>0.00000</td>\n",
       "    </tr>\n",
       "    <tr>\n",
       "      <th>50%</th>\n",
       "      <td>60.000000</td>\n",
       "      <td>0.000000</td>\n",
       "      <td>250.000000</td>\n",
       "      <td>0.000000</td>\n",
       "      <td>38.000000</td>\n",
       "      <td>0.000000</td>\n",
       "      <td>262000.000000</td>\n",
       "      <td>1.10000</td>\n",
       "      <td>137.000000</td>\n",
       "      <td>1.000000</td>\n",
       "      <td>0.00000</td>\n",
       "      <td>115.000000</td>\n",
       "      <td>0.00000</td>\n",
       "    </tr>\n",
       "    <tr>\n",
       "      <th>75%</th>\n",
       "      <td>70.000000</td>\n",
       "      <td>1.000000</td>\n",
       "      <td>582.000000</td>\n",
       "      <td>1.000000</td>\n",
       "      <td>45.000000</td>\n",
       "      <td>1.000000</td>\n",
       "      <td>303500.000000</td>\n",
       "      <td>1.40000</td>\n",
       "      <td>140.000000</td>\n",
       "      <td>1.000000</td>\n",
       "      <td>1.00000</td>\n",
       "      <td>203.000000</td>\n",
       "      <td>1.00000</td>\n",
       "    </tr>\n",
       "    <tr>\n",
       "      <th>max</th>\n",
       "      <td>95.000000</td>\n",
       "      <td>1.000000</td>\n",
       "      <td>7861.000000</td>\n",
       "      <td>1.000000</td>\n",
       "      <td>80.000000</td>\n",
       "      <td>1.000000</td>\n",
       "      <td>850000.000000</td>\n",
       "      <td>9.40000</td>\n",
       "      <td>148.000000</td>\n",
       "      <td>1.000000</td>\n",
       "      <td>1.00000</td>\n",
       "      <td>285.000000</td>\n",
       "      <td>1.00000</td>\n",
       "    </tr>\n",
       "  </tbody>\n",
       "</table>\n",
       "</div>"
      ],
      "text/plain": [
       "              age     anaemia  creatinine_phosphokinase    diabetes  \\\n",
       "count  299.000000  299.000000                299.000000  299.000000   \n",
       "mean    60.833893    0.431438                581.839465    0.418060   \n",
       "std     11.894809    0.496107                970.287881    0.494067   \n",
       "min     40.000000    0.000000                 23.000000    0.000000   \n",
       "25%     51.000000    0.000000                116.500000    0.000000   \n",
       "50%     60.000000    0.000000                250.000000    0.000000   \n",
       "75%     70.000000    1.000000                582.000000    1.000000   \n",
       "max     95.000000    1.000000               7861.000000    1.000000   \n",
       "\n",
       "       ejection_fraction  high_blood_pressure      platelets  \\\n",
       "count         299.000000           299.000000     299.000000   \n",
       "mean           38.083612             0.351171  263358.029264   \n",
       "std            11.834841             0.478136   97804.236869   \n",
       "min            14.000000             0.000000   25100.000000   \n",
       "25%            30.000000             0.000000  212500.000000   \n",
       "50%            38.000000             0.000000  262000.000000   \n",
       "75%            45.000000             1.000000  303500.000000   \n",
       "max            80.000000             1.000000  850000.000000   \n",
       "\n",
       "       serum_creatinine  serum_sodium         sex    smoking        time  \\\n",
       "count         299.00000    299.000000  299.000000  299.00000  299.000000   \n",
       "mean            1.39388    136.625418    0.648829    0.32107  130.260870   \n",
       "std             1.03451      4.412477    0.478136    0.46767   77.614208   \n",
       "min             0.50000    113.000000    0.000000    0.00000    4.000000   \n",
       "25%             0.90000    134.000000    0.000000    0.00000   73.000000   \n",
       "50%             1.10000    137.000000    1.000000    0.00000  115.000000   \n",
       "75%             1.40000    140.000000    1.000000    1.00000  203.000000   \n",
       "max             9.40000    148.000000    1.000000    1.00000  285.000000   \n",
       "\n",
       "       DEATH_EVENT  \n",
       "count    299.00000  \n",
       "mean       0.32107  \n",
       "std        0.46767  \n",
       "min        0.00000  \n",
       "25%        0.00000  \n",
       "50%        0.00000  \n",
       "75%        1.00000  \n",
       "max        1.00000  "
      ]
     },
     "execution_count": 4,
     "metadata": {},
     "output_type": "execute_result"
    }
   ],
   "source": [
    "df.describe()"
   ]
  },
  {
   "cell_type": "markdown",
   "id": "18875fe3",
   "metadata": {
    "papermill": {
     "duration": 0.01348,
     "end_time": "2023-02-05T09:30:55.219406",
     "exception": false,
     "start_time": "2023-02-05T09:30:55.205926",
     "status": "completed"
    },
    "tags": []
   },
   "source": [
    "# Data Visualization"
   ]
  },
  {
   "cell_type": "code",
   "execution_count": 5,
   "id": "3b2002b5",
   "metadata": {
    "scrolled": true
   },
   "outputs": [
    {
     "data": {
      "text/plain": [
       "Index(['age', 'anaemia', 'creatinine_phosphokinase', 'diabetes',\n",
       "       'ejection_fraction', 'high_blood_pressure', 'platelets',\n",
       "       'serum_creatinine', 'serum_sodium', 'sex', 'smoking', 'time',\n",
       "       'DEATH_EVENT'],\n",
       "      dtype='object')"
      ]
     },
     "execution_count": 5,
     "metadata": {},
     "output_type": "execute_result"
    }
   ],
   "source": [
    "df.columns"
   ]
  },
  {
   "cell_type": "code",
   "execution_count": 6,
   "id": "991882a2",
   "metadata": {
    "execution": {
     "iopub.execute_input": "2023-02-05T09:30:55.249758Z",
     "iopub.status.busy": "2023-02-05T09:30:55.248945Z",
     "iopub.status.idle": "2023-02-05T09:30:55.490424Z",
     "shell.execute_reply": "2023-02-05T09:30:55.489146Z"
    },
    "papermill": {
     "duration": 0.259736,
     "end_time": "2023-02-05T09:30:55.493746",
     "exception": false,
     "start_time": "2023-02-05T09:30:55.234010",
     "status": "completed"
    },
    "tags": []
   },
   "outputs": [
    {
     "data": {
      "image/png": "[encoded data removed]",
      "text/plain": [
       "<Figure size 864x432 with 1 Axes>"
      ]
     },
     "metadata": {},
     "output_type": "display_data"
    }
   ],
   "source": [
    "plt.figure(figsize=(12,6))\n",
    "sns.countplot(data=df, x='DEATH_EVENT')\n",
    "plt.title('Death Event')\n",
    "plt.xlabel(None)\n",
    "plt.ylabel(None)\n",
    "plt.show()"
   ]
  },
  {
   "cell_type": "code",
   "execution_count": 7,
   "id": "9816808b",
   "metadata": {
    "execution": {
     "iopub.execute_input": "2023-02-05T09:30:55.530266Z",
     "iopub.status.busy": "2023-02-05T09:30:55.529051Z",
     "iopub.status.idle": "2023-02-05T09:30:55.539140Z",
     "shell.execute_reply": "2023-02-05T09:30:55.538024Z"
    },
    "papermill": {
     "duration": 0.02836,
     "end_time": "2023-02-05T09:30:55.541662",
     "exception": false,
     "start_time": "2023-02-05T09:30:55.513302",
     "status": "completed"
    },
    "tags": []
   },
   "outputs": [
    {
     "data": {
      "text/plain": [
       "0    0.67893\n",
       "1    0.32107\n",
       "Name: DEATH_EVENT, dtype: float64"
      ]
     },
     "execution_count": 7,
     "metadata": {},
     "output_type": "execute_result"
    }
   ],
   "source": [
    "df.DEATH_EVENT.value_counts(normalize=True)"
   ]
  },
  {
   "cell_type": "code",
   "execution_count": 8,
   "id": "7c89db35",
   "metadata": {
    "execution": {
     "iopub.execute_input": "2023-02-05T09:30:55.575321Z",
     "iopub.status.busy": "2023-02-05T09:30:55.574788Z",
     "iopub.status.idle": "2023-02-05T09:30:55.797453Z",
     "shell.execute_reply": "2023-02-05T09:30:55.796090Z"
    },
    "papermill": {
     "duration": 0.242283,
     "end_time": "2023-02-05T09:30:55.800091",
     "exception": false,
     "start_time": "2023-02-05T09:30:55.557808",
     "status": "completed"
    },
    "tags": []
   },
   "outputs": [
    {
     "data": {
      "image/png": "[encoded data removed]",
      "text/plain": [
       "<Figure size 864x288 with 1 Axes>"
      ]
     },
     "metadata": {},
     "output_type": "display_data"
    }
   ],
   "source": [
    "plt.figure(figsize=(12,4))\n",
    "sns.countplot(data=df, x='DEATH_EVENT', hue='sex')\n",
    "plt.title('Sex and Death Event')\n",
    "plt.show()"
   ]
  },
  {
   "cell_type": "code",
   "execution_count": 13,
   "id": "c428a879",
   "metadata": {
    "execution": {
     "iopub.execute_input": "2023-02-05T09:30:55.837121Z",
     "iopub.status.busy": "2023-02-05T09:30:55.836689Z",
     "iopub.status.idle": "2023-02-05T09:30:56.214590Z",
     "shell.execute_reply": "2023-02-05T09:30:56.213712Z"
    },
    "papermill": {
     "duration": 0.401388,
     "end_time": "2023-02-05T09:30:56.217449",
     "exception": false,
     "start_time": "2023-02-05T09:30:55.816061",
     "status": "completed"
    },
    "tags": []
   },
   "outputs": [
    {
     "data": {
      "image/png": "[encoded data removed]",
      "text/plain": [
       "<Figure size 864x432 with 1 Axes>"
      ]
     },
     "metadata": {},
     "output_type": "display_data"
    }
   ],
   "source": [
    "plt.figure(figsize=(12,6))\n",
    "sns.histplot(data=df, x='time', hue='DEATH_EVENT', bins=16, multiple='dodge')\n",
    "plt.title('Death Event over time after Cardiac Failure')\n",
    "plt.ylabel(None)\n",
    "plt.show()"
   ]
  },
  {
   "cell_type": "markdown",
   "id": "3916ba97",
   "metadata": {
    "papermill": {
     "duration": 0.014344,
     "end_time": "2023-02-05T09:30:56.249457",
     "exception": false,
     "start_time": "2023-02-05T09:30:56.235113",
     "status": "completed"
    },
    "tags": []
   },
   "source": [
    "We can see that the risk of death is really high in the two months after the heart failure, after that, the patients have higher chance of survival"
   ]
  },
  {
   "cell_type": "code",
   "execution_count": 15,
   "id": "3a9c2add",
   "metadata": {
    "execution": {
     "iopub.execute_input": "2023-02-05T09:30:56.282287Z",
     "iopub.status.busy": "2023-02-05T09:30:56.281115Z",
     "iopub.status.idle": "2023-02-05T09:30:56.634557Z",
     "shell.execute_reply": "2023-02-05T09:30:56.633106Z"
    },
    "papermill": {
     "duration": 0.373444,
     "end_time": "2023-02-05T09:30:56.637923",
     "exception": false,
     "start_time": "2023-02-05T09:30:56.264479",
     "status": "completed"
    },
    "tags": []
   },
   "outputs": [
    {
     "data": {
      "image/png": "[encoded data removed]",
      "text/plain": [
       "<Figure size 864x432 with 1 Axes>"
      ]
     },
     "metadata": {},
     "output_type": "display_data"
    }
   ],
   "source": [
    "plt.figure(figsize=(12,6))\n",
    "sns.histplot(data=df, x='age', hue='DEATH_EVENT', multiple='dodge', bins=16)\n",
    "plt.title('Death Event and Age')\n",
    "plt.ylabel(None)\n",
    "plt.show()"
   ]
  },
  {
   "cell_type": "markdown",
   "id": "ddfcb98e",
   "metadata": {
    "papermill": {
     "duration": 0.015001,
     "end_time": "2023-02-05T09:30:56.668476",
     "exception": false,
     "start_time": "2023-02-05T09:30:56.653475",
     "status": "completed"
    },
    "tags": []
   },
   "source": [
    "The survival rate is reducing with age. The older the patient, the more important it is to prevent heart failure"
   ]
  },
  {
   "cell_type": "code",
   "execution_count": 10,
   "id": "308c9fbb",
   "metadata": {
    "execution": {
     "iopub.execute_input": "2023-02-05T09:30:56.702199Z",
     "iopub.status.busy": "2023-02-05T09:30:56.701091Z",
     "iopub.status.idle": "2023-02-05T09:30:56.919041Z",
     "shell.execute_reply": "2023-02-05T09:30:56.918177Z"
    },
    "papermill": {
     "duration": 0.236889,
     "end_time": "2023-02-05T09:30:56.921514",
     "exception": false,
     "start_time": "2023-02-05T09:30:56.684625",
     "status": "completed"
    },
    "tags": []
   },
   "outputs": [
    {
     "data": {
      "image/png": "[encoded data removed]",
      "text/plain": [
       "<Figure size 864x432 with 1 Axes>"
      ]
     },
     "metadata": {},
     "output_type": "display_data"
    }
   ],
   "source": [
    "plt.figure(figsize=(12,6))\n",
    "sns.countplot(data=df, x='anaemia', hue='DEATH_EVENT')\n",
    "plt.title('Anaemia and Death Event')\n",
    "plt.ylabel(None)\n",
    "plt.show()"
   ]
  },
  {
   "cell_type": "markdown",
   "id": "2e33e189",
   "metadata": {
    "papermill": {
     "duration": 0.014814,
     "end_time": "2023-02-05T09:30:56.951748",
     "exception": false,
     "start_time": "2023-02-05T09:30:56.936934",
     "status": "completed"
    },
    "tags": []
   },
   "source": [
    "Anaemia increase the risk of dying after the heart failure"
   ]
  },
  {
   "cell_type": "markdown",
   "id": "ed9358b0",
   "metadata": {
    "papermill": {
     "duration": 0.015327,
     "end_time": "2023-02-05T09:30:56.982672",
     "exception": false,
     "start_time": "2023-02-05T09:30:56.967345",
     "status": "completed"
    },
    "tags": []
   },
   "source": [
    "<h1>Creatinine and CPK</h1>"
   ]
  },
  {
   "cell_type": "code",
   "execution_count": 11,
   "id": "6a6d2981",
   "metadata": {
    "execution": {
     "iopub.execute_input": "2023-02-05T09:30:57.017045Z",
     "iopub.status.busy": "2023-02-05T09:30:57.016192Z",
     "iopub.status.idle": "2023-02-05T09:30:57.339423Z",
     "shell.execute_reply": "2023-02-05T09:30:57.338138Z"
    },
    "papermill": {
     "duration": 0.343342,
     "end_time": "2023-02-05T09:30:57.342123",
     "exception": false,
     "start_time": "2023-02-05T09:30:56.998781",
     "status": "completed"
    },
    "tags": []
   },
   "outputs": [
    {
     "data": {
      "image/png": "[encoded data removed]",
      "text/plain": [
       "<Figure size 864x288 with 1 Axes>"
      ]
     },
     "metadata": {},
     "output_type": "display_data"
    }
   ],
   "source": [
    "plt.figure(figsize=(12,4))\n",
    "sns.histplot(data=df, x='serum_creatinine')\n",
    "plt.title('Serum Creatinine Distribution')\n",
    "plt.xlabel('Serum Creatinine')\n",
    "plt.ylabel(None)\n",
    "plt.show()"
   ]
  },
  {
   "cell_type": "code",
   "execution_count": 12,
   "id": "0c746e54",
   "metadata": {
    "execution": {
     "iopub.execute_input": "2023-02-05T09:30:57.375748Z",
     "iopub.status.busy": "2023-02-05T09:30:57.374324Z",
     "iopub.status.idle": "2023-02-05T09:30:57.710779Z",
     "shell.execute_reply": "2023-02-05T09:30:57.709105Z"
    },
    "papermill": {
     "duration": 0.356212,
     "end_time": "2023-02-05T09:30:57.713745",
     "exception": false,
     "start_time": "2023-02-05T09:30:57.357533",
     "status": "completed"
    },
    "tags": []
   },
   "outputs": [
    {
     "data": {
      "image/png": "[encoded data removed]",
      "text/plain": [
       "<Figure size 864x288 with 1 Axes>"
      ]
     },
     "metadata": {},
     "output_type": "display_data"
    }
   ],
   "source": [
    "plt.figure(figsize=(12,4))\n",
    "sns.histplot(data=df, x='creatinine_phosphokinase')\n",
    "plt.title('Creatinine Phosphokinase Distribution')\n",
    "plt.xlabel('Creatinine Phosphokinase')\n",
    "plt.show()"
   ]
  },
  {
   "cell_type": "code",
   "execution_count": 13,
   "id": "796219be",
   "metadata": {
    "execution": {
     "iopub.execute_input": "2023-02-05T09:30:57.747612Z",
     "iopub.status.busy": "2023-02-05T09:30:57.747149Z",
     "iopub.status.idle": "2023-02-05T09:30:58.070532Z",
     "shell.execute_reply": "2023-02-05T09:30:58.069234Z"
    },
    "papermill": {
     "duration": 0.343427,
     "end_time": "2023-02-05T09:30:58.073141",
     "exception": false,
     "start_time": "2023-02-05T09:30:57.729714",
     "status": "completed"
    },
    "tags": []
   },
   "outputs": [
    {
     "data": {
      "image/png": "[encoded data removed]",
      "text/plain": [
       "<Figure size 864x432 with 1 Axes>"
      ]
     },
     "metadata": {},
     "output_type": "display_data"
    }
   ],
   "source": [
    "plt.figure(figsize=(12,6))\n",
    "sns.scatterplot(data=df, x='creatinine_phosphokinase', y='serum_creatinine', hue='DEATH_EVENT')\n",
    "plt.title('Creatinine Phosphokinase vs. Serum Creatinine')\n",
    "plt.xlabel('Creatinine Phosphokinse')\n",
    "plt.ylabel('Serum Creatinine')\n",
    "plt.show()"
   ]
  },
  {
   "cell_type": "code",
   "execution_count": 14,
   "id": "6d3a2024",
   "metadata": {
    "execution": {
     "iopub.execute_input": "2023-02-05T09:30:58.108916Z",
     "iopub.status.busy": "2023-02-05T09:30:58.108496Z",
     "iopub.status.idle": "2023-02-05T09:30:58.607132Z",
     "shell.execute_reply": "2023-02-05T09:30:58.605838Z"
    },
    "papermill": {
     "duration": 0.519604,
     "end_time": "2023-02-05T09:30:58.609640",
     "exception": false,
     "start_time": "2023-02-05T09:30:58.090036",
     "status": "completed"
    },
    "tags": []
   },
   "outputs": [
    {
     "data": {
      "image/png": "[encoded data removed]",
      "text/plain": [
       "<Figure size 864x288 with 1 Axes>"
      ]
     },
     "metadata": {},
     "output_type": "display_data"
    }
   ],
   "source": [
    "plt.figure(figsize=(12,4))\n",
    "sns.histplot(data=df, x='serum_creatinine', hue='DEATH_EVENT', multiple='dodge')\n",
    "plt.title('Serum Creatinine and Death Event')\n",
    "plt.ylabel(None)\n",
    "plt.xlabel('Serum Creatinine')\n",
    "plt.show()"
   ]
  },
  {
   "cell_type": "code",
   "execution_count": 15,
   "id": "8d468772",
   "metadata": {
    "execution": {
     "iopub.execute_input": "2023-02-05T09:30:58.645187Z",
     "iopub.status.busy": "2023-02-05T09:30:58.644767Z",
     "iopub.status.idle": "2023-02-05T09:30:59.311141Z",
     "shell.execute_reply": "2023-02-05T09:30:59.309877Z"
    },
    "papermill": {
     "duration": 0.687394,
     "end_time": "2023-02-05T09:30:59.313890",
     "exception": false,
     "start_time": "2023-02-05T09:30:58.626496",
     "status": "completed"
    },
    "tags": []
   },
   "outputs": [
    {
     "data": {
      "image/png": "[encoded data removed]",
      "text/plain": [
       "<Figure size 864x288 with 1 Axes>"
      ]
     },
     "metadata": {},
     "output_type": "display_data"
    }
   ],
   "source": [
    "plt.figure(figsize=(12,4))\n",
    "sns.histplot(data=df, x='creatinine_phosphokinase', hue='DEATH_EVENT', multiple='dodge')\n",
    "plt.title('Creatinine Phosphokinase and Death Event')\n",
    "plt.ylabel(None)\n",
    "plt.xlabel('Creatine Phosphokinase')\n",
    "plt.show()"
   ]
  },
  {
   "cell_type": "markdown",
   "id": "09e20496",
   "metadata": {
    "papermill": {
     "duration": 0.017035,
     "end_time": "2023-02-05T09:30:59.348508",
     "exception": false,
     "start_time": "2023-02-05T09:30:59.331473",
     "status": "completed"
    },
    "tags": []
   },
   "source": [
    "<h1>Diabetes</h1>"
   ]
  },
  {
   "cell_type": "code",
   "execution_count": 16,
   "id": "a25b040b",
   "metadata": {
    "execution": {
     "iopub.execute_input": "2023-02-05T09:30:59.384353Z",
     "iopub.status.busy": "2023-02-05T09:30:59.383938Z",
     "iopub.status.idle": "2023-02-05T09:30:59.596077Z",
     "shell.execute_reply": "2023-02-05T09:30:59.594794Z"
    },
    "papermill": {
     "duration": 0.233359,
     "end_time": "2023-02-05T09:30:59.598882",
     "exception": false,
     "start_time": "2023-02-05T09:30:59.365523",
     "status": "completed"
    },
    "tags": []
   },
   "outputs": [
    {
     "data": {
      "image/png": "[encoded data removed]",
      "text/plain": [
       "<Figure size 864x288 with 1 Axes>"
      ]
     },
     "metadata": {},
     "output_type": "display_data"
    }
   ],
   "source": [
    "plt.figure(figsize=(12,4))\n",
    "sns.countplot(data=df, x='diabetes', hue='DEATH_EVENT')\n",
    "plt.title('Diabetes and Death Event')\n",
    "plt.ylabel(None)\n",
    "plt.show()"
   ]
  },
  {
   "cell_type": "markdown",
   "id": "131ac820",
   "metadata": {
    "papermill": {
     "duration": 0.018551,
     "end_time": "2023-02-05T09:30:59.635527",
     "exception": false,
     "start_time": "2023-02-05T09:30:59.616976",
     "status": "completed"
    },
    "tags": []
   },
   "source": [
    "<h1>Ejection Fraction</h1>"
   ]
  },
  {
   "cell_type": "code",
   "execution_count": 17,
   "id": "b952eda9",
   "metadata": {
    "execution": {
     "iopub.execute_input": "2023-02-05T09:30:59.673022Z",
     "iopub.status.busy": "2023-02-05T09:30:59.672539Z",
     "iopub.status.idle": "2023-02-05T09:31:00.005353Z",
     "shell.execute_reply": "2023-02-05T09:31:00.004147Z"
    },
    "papermill": {
     "duration": 0.354927,
     "end_time": "2023-02-05T09:31:00.008037",
     "exception": false,
     "start_time": "2023-02-05T09:30:59.653110",
     "status": "completed"
    },
    "tags": []
   },
   "outputs": [
    {
     "data": {
      "image/png": "[encoded data removed]",
      "text/plain": [
       "<Figure size 864x288 with 1 Axes>"
      ]
     },
     "metadata": {},
     "output_type": "display_data"
    }
   ],
   "source": [
    "plt.figure(figsize=(12,4))\n",
    "sns.histplot(data=df, x='ejection_fraction', hue='DEATH_EVENT', multiple='dodge')\n",
    "plt.title('Ejection Fraction and Death Event')\n",
    "plt.xlabel('Ejection Fraction')\n",
    "plt.ylabel(None)\n",
    "plt.show()"
   ]
  },
  {
   "cell_type": "markdown",
   "id": "995fe9a2",
   "metadata": {
    "papermill": {
     "duration": 0.018433,
     "end_time": "2023-02-05T09:31:00.044443",
     "exception": false,
     "start_time": "2023-02-05T09:31:00.026010",
     "status": "completed"
    },
    "tags": []
   },
   "source": [
    "having a larger ejection fraction seems to reduce the risk of death after cardiac failure. Because of the insufficient sample we cannot interpret the extreme values (< 20 and > 65)"
   ]
  },
  {
   "cell_type": "markdown",
   "id": "7f32bc40",
   "metadata": {
    "papermill": {
     "duration": 0.017559,
     "end_time": "2023-02-05T09:31:00.080392",
     "exception": false,
     "start_time": "2023-02-05T09:31:00.062833",
     "status": "completed"
    },
    "tags": []
   },
   "source": [
    "<h1>Blood Pressure</h1>"
   ]
  },
  {
   "cell_type": "code",
   "execution_count": 18,
   "id": "9931eaa2",
   "metadata": {
    "execution": {
     "iopub.execute_input": "2023-02-05T09:31:00.118441Z",
     "iopub.status.busy": "2023-02-05T09:31:00.118025Z",
     "iopub.status.idle": "2023-02-05T09:31:00.341790Z",
     "shell.execute_reply": "2023-02-05T09:31:00.340414Z"
    },
    "papermill": {
     "duration": 0.246015,
     "end_time": "2023-02-05T09:31:00.344257",
     "exception": false,
     "start_time": "2023-02-05T09:31:00.098242",
     "status": "completed"
    },
    "tags": []
   },
   "outputs": [
    {
     "data": {
      "image/png": "[encoded data removed]",
      "text/plain": [
       "<Figure size 864x288 with 1 Axes>"
      ]
     },
     "metadata": {},
     "output_type": "display_data"
    }
   ],
   "source": [
    "plt.figure(figsize=(12,4))\n",
    "sns.countplot(data=df, x='high_blood_pressure', hue='DEATH_EVENT')\n",
    "plt.title('High Blood Pressure and Death Event')\n",
    "plt.ylabel(None)\n",
    "plt.xlabel('High Blood Pressure')\n",
    "plt.show()"
   ]
  },
  {
   "cell_type": "markdown",
   "id": "4a12afe5",
   "metadata": {
    "papermill": {
     "duration": 0.018516,
     "end_time": "2023-02-05T09:31:00.381381",
     "exception": false,
     "start_time": "2023-02-05T09:31:00.362865",
     "status": "completed"
    },
    "tags": []
   },
   "source": [
    "high blood pressure increases the risk of death after cardiac failure"
   ]
  },
  {
   "cell_type": "markdown",
   "id": "4724b46d",
   "metadata": {
    "papermill": {
     "duration": 0.017929,
     "end_time": "2023-02-05T09:31:00.417874",
     "exception": false,
     "start_time": "2023-02-05T09:31:00.399945",
     "status": "completed"
    },
    "tags": []
   },
   "source": [
    "<h1>Platelets</h1>"
   ]
  },
  {
   "cell_type": "code",
   "execution_count": 19,
   "id": "145a59ee",
   "metadata": {
    "execution": {
     "iopub.execute_input": "2023-02-05T09:31:00.458140Z",
     "iopub.status.busy": "2023-02-05T09:31:00.457715Z",
     "iopub.status.idle": "2023-02-05T09:31:00.726765Z",
     "shell.execute_reply": "2023-02-05T09:31:00.725490Z"
    },
    "papermill": {
     "duration": 0.291637,
     "end_time": "2023-02-05T09:31:00.729531",
     "exception": false,
     "start_time": "2023-02-05T09:31:00.437894",
     "status": "completed"
    },
    "tags": []
   },
   "outputs": [
    {
     "data": {
      "image/png": "[encoded data removed]",
      "text/plain": [
       "<Figure size 864x288 with 1 Axes>"
      ]
     },
     "metadata": {},
     "output_type": "display_data"
    }
   ],
   "source": [
    "plt.figure(figsize=(12,4))\n",
    "sns.histplot(data=df, x='platelets')\n",
    "plt.title('Platelets Count Distribution')\n",
    "plt.xlabel('Platelets')\n",
    "plt.ylabel(None)\n",
    "plt.show()"
   ]
  },
  {
   "cell_type": "code",
   "execution_count": 20,
   "id": "8c9af273",
   "metadata": {
    "execution": {
     "iopub.execute_input": "2023-02-05T09:31:00.768501Z",
     "iopub.status.busy": "2023-02-05T09:31:00.768041Z",
     "iopub.status.idle": "2023-02-05T09:31:01.161981Z",
     "shell.execute_reply": "2023-02-05T09:31:01.160666Z"
    },
    "papermill": {
     "duration": 0.416443,
     "end_time": "2023-02-05T09:31:01.164643",
     "exception": false,
     "start_time": "2023-02-05T09:31:00.748200",
     "status": "completed"
    },
    "tags": []
   },
   "outputs": [
    {
     "data": {
      "image/png": "[encoded data removed]",
      "text/plain": [
       "<Figure size 864x288 with 1 Axes>"
      ]
     },
     "metadata": {},
     "output_type": "display_data"
    }
   ],
   "source": [
    "plt.figure(figsize=(12,4))\n",
    "sns.histplot(data=df, x='platelets', hue='DEATH_EVENT', multiple='dodge')\n",
    "plt.title('Platelets Count ans Death Event')\n",
    "plt.xlabel('Platelets Count')\n",
    "plt.ylabel(None)\n",
    "plt.show()"
   ]
  },
  {
   "cell_type": "markdown",
   "id": "8cc5edd1",
   "metadata": {
    "papermill": {
     "duration": 0.018821,
     "end_time": "2023-02-05T09:31:01.203845",
     "exception": false,
     "start_time": "2023-02-05T09:31:01.185024",
     "status": "completed"
    },
    "tags": []
   },
   "source": [
    "High and Low platelets count seem to increase the risk of death after a cardiac failure."
   ]
  },
  {
   "cell_type": "markdown",
   "id": "1fe4f78c",
   "metadata": {
    "papermill": {
     "duration": 0.018563,
     "end_time": "2023-02-05T09:31:01.241417",
     "exception": false,
     "start_time": "2023-02-05T09:31:01.222854",
     "status": "completed"
    },
    "tags": []
   },
   "source": [
    "<h1>Sodium</h1>"
   ]
  },
  {
   "cell_type": "code",
   "execution_count": 21,
   "id": "5f9258c5",
   "metadata": {
    "execution": {
     "iopub.execute_input": "2023-02-05T09:31:01.281290Z",
     "iopub.status.busy": "2023-02-05T09:31:01.280901Z",
     "iopub.status.idle": "2023-02-05T09:31:01.560014Z",
     "shell.execute_reply": "2023-02-05T09:31:01.558764Z"
    },
    "papermill": {
     "duration": 0.30237,
     "end_time": "2023-02-05T09:31:01.562702",
     "exception": false,
     "start_time": "2023-02-05T09:31:01.260332",
     "status": "completed"
    },
    "tags": []
   },
   "outputs": [
    {
     "data": {
      "image/png": "[encoded data removed]",
      "text/plain": [
       "<Figure size 864x288 with 1 Axes>"
      ]
     },
     "metadata": {},
     "output_type": "display_data"
    }
   ],
   "source": [
    "plt.figure(figsize=(12,4))\n",
    "sns.histplot(data=df, x='serum_sodium')\n",
    "plt.title('Serum Sodium Distribution')\n",
    "plt.ylabel(None)\n",
    "plt.xlabel('Serum Sodium')\n",
    "plt.show()"
   ]
  },
  {
   "cell_type": "code",
   "execution_count": 22,
   "id": "d6fbc4b8",
   "metadata": {
    "execution": {
     "iopub.execute_input": "2023-02-05T09:31:01.603345Z",
     "iopub.status.busy": "2023-02-05T09:31:01.602201Z",
     "iopub.status.idle": "2023-02-05T09:31:01.952521Z",
     "shell.execute_reply": "2023-02-05T09:31:01.951319Z"
    },
    "papermill": {
     "duration": 0.373368,
     "end_time": "2023-02-05T09:31:01.955226",
     "exception": false,
     "start_time": "2023-02-05T09:31:01.581858",
     "status": "completed"
    },
    "tags": []
   },
   "outputs": [
    {
     "data": {
      "image/png": "[encoded data removed]",
      "text/plain": [
       "<Figure size 864x288 with 1 Axes>"
      ]
     },
     "metadata": {},
     "output_type": "display_data"
    }
   ],
   "source": [
    "plt.figure(figsize=(12,4))\n",
    "sns.histplot(data=df, x='serum_sodium', hue='DEATH_EVENT', multiple='dodge')\n",
    "plt.title('Serum Sodium and Death Event')\n",
    "plt.xlabel('Serum Sodium')\n",
    "plt.ylabel(None)\n",
    "plt.show()"
   ]
  },
  {
   "cell_type": "markdown",
   "id": "60e9bc42",
   "metadata": {
    "papermill": {
     "duration": 0.019236,
     "end_time": "2023-02-05T09:31:01.994154",
     "exception": false,
     "start_time": "2023-02-05T09:31:01.974918",
     "status": "completed"
    },
    "tags": []
   },
   "source": [
    "Having a sodium level within normal range reduces the risk of death after heart failure"
   ]
  },
  {
   "cell_type": "markdown",
   "id": "08ca64d2",
   "metadata": {
    "papermill": {
     "duration": 0.019291,
     "end_time": "2023-02-05T09:31:02.032902",
     "exception": false,
     "start_time": "2023-02-05T09:31:02.013611",
     "status": "completed"
    },
    "tags": []
   },
   "source": [
    "<h1>smoking</h1>\n",
    "The data obtain with a countplot are hard to read, we will use pie plots instead"
   ]
  },
  {
   "cell_type": "code",
   "execution_count": 23,
   "id": "bbe1d8d5",
   "metadata": {
    "execution": {
     "iopub.execute_input": "2023-02-05T09:31:02.075100Z",
     "iopub.status.busy": "2023-02-05T09:31:02.074713Z",
     "iopub.status.idle": "2023-02-05T09:31:02.298158Z",
     "shell.execute_reply": "2023-02-05T09:31:02.296672Z"
    },
    "papermill": {
     "duration": 0.24758,
     "end_time": "2023-02-05T09:31:02.301091",
     "exception": false,
     "start_time": "2023-02-05T09:31:02.053511",
     "status": "completed"
    },
    "tags": []
   },
   "outputs": [
    {
     "data": {
      "image/png": "[encoded data removed]",
      "text/plain": [
       "<Figure size 864x288 with 1 Axes>"
      ]
     },
     "metadata": {},
     "output_type": "display_data"
    }
   ],
   "source": [
    "plt.figure(figsize=(12,4))\n",
    "sns.countplot(data=df, x='smoking', hue='DEATH_EVENT')\n",
    "plt.title('Number of Death Event for Smokers and Non-Smokers')\n",
    "plt.show()"
   ]
  },
  {
   "cell_type": "code",
   "execution_count": 24,
   "id": "f6f236ec",
   "metadata": {
    "execution": {
     "iopub.execute_input": "2023-02-05T09:31:02.345453Z",
     "iopub.status.busy": "2023-02-05T09:31:02.345042Z",
     "iopub.status.idle": "2023-02-05T09:31:02.567238Z",
     "shell.execute_reply": "2023-02-05T09:31:02.565913Z"
    },
    "papermill": {
     "duration": 0.247558,
     "end_time": "2023-02-05T09:31:02.570125",
     "exception": false,
     "start_time": "2023-02-05T09:31:02.322567",
     "status": "completed"
    },
    "tags": []
   },
   "outputs": [
    {
     "data": {
      "image/png": "[encoded data removed]",
      "text/plain": [
       "<Figure size 864x432 with 1 Axes>"
      ]
     },
     "metadata": {},
     "output_type": "display_data"
    }
   ],
   "source": [
    "plt.figure(figsize=(12,6))\n",
    "sns.boxplot(data=df, x='high_blood_pressure', y='serum_sodium')\n",
    "plt.title(\"Serum Sodium and High Blood Pressure\")\n",
    "plt.xlabel('High Blood Pressure')\n",
    "plt.ylabel(\"Serum Sodium\")\n",
    "plt.show()"
   ]
  },
  {
   "cell_type": "code",
   "execution_count": 38,
   "id": "2579f163",
   "metadata": {},
   "outputs": [
    {
     "data": {
      "text/html": [
       "<div>\n",
       "<style scoped>\n",
       "    .dataframe tbody tr th:only-of-type {\n",
       "        vertical-align: middle;\n",
       "    }\n",
       "\n",
       "    .dataframe tbody tr th {\n",
       "        vertical-align: top;\n",
       "    }\n",
       "\n",
       "    .dataframe thead th {\n",
       "        text-align: right;\n",
       "    }\n",
       "</style>\n",
       "<table border=\"1\" class=\"dataframe\">\n",
       "  <thead>\n",
       "    <tr style=\"text-align: right;\">\n",
       "      <th></th>\n",
       "      <th>age</th>\n",
       "      <th>anaemia</th>\n",
       "      <th>creatinine_phosphokinase</th>\n",
       "      <th>diabetes</th>\n",
       "      <th>ejection_fraction</th>\n",
       "      <th>high_blood_pressure</th>\n",
       "      <th>platelets</th>\n",
       "      <th>serum_creatinine</th>\n",
       "      <th>serum_sodium</th>\n",
       "      <th>sex</th>\n",
       "      <th>smoking</th>\n",
       "      <th>time</th>\n",
       "      <th>DEATH_EVENT</th>\n",
       "    </tr>\n",
       "  </thead>\n",
       "  <tbody>\n",
       "    <tr>\n",
       "      <th>0</th>\n",
       "      <td>75.0</td>\n",
       "      <td>0</td>\n",
       "      <td>582</td>\n",
       "      <td>0</td>\n",
       "      <td>20</td>\n",
       "      <td>1</td>\n",
       "      <td>265000.00</td>\n",
       "      <td>1.9</td>\n",
       "      <td>130</td>\n",
       "      <td>1</td>\n",
       "      <td>0</td>\n",
       "      <td>4</td>\n",
       "      <td>1</td>\n",
       "    </tr>\n",
       "    <tr>\n",
       "      <th>1</th>\n",
       "      <td>55.0</td>\n",
       "      <td>0</td>\n",
       "      <td>7861</td>\n",
       "      <td>0</td>\n",
       "      <td>38</td>\n",
       "      <td>0</td>\n",
       "      <td>263358.03</td>\n",
       "      <td>1.1</td>\n",
       "      <td>136</td>\n",
       "      <td>1</td>\n",
       "      <td>0</td>\n",
       "      <td>6</td>\n",
       "      <td>1</td>\n",
       "    </tr>\n",
       "    <tr>\n",
       "      <th>2</th>\n",
       "      <td>65.0</td>\n",
       "      <td>0</td>\n",
       "      <td>146</td>\n",
       "      <td>0</td>\n",
       "      <td>20</td>\n",
       "      <td>0</td>\n",
       "      <td>162000.00</td>\n",
       "      <td>1.3</td>\n",
       "      <td>129</td>\n",
       "      <td>1</td>\n",
       "      <td>1</td>\n",
       "      <td>7</td>\n",
       "      <td>1</td>\n",
       "    </tr>\n",
       "    <tr>\n",
       "      <th>3</th>\n",
       "      <td>50.0</td>\n",
       "      <td>1</td>\n",
       "      <td>111</td>\n",
       "      <td>0</td>\n",
       "      <td>20</td>\n",
       "      <td>0</td>\n",
       "      <td>210000.00</td>\n",
       "      <td>1.9</td>\n",
       "      <td>137</td>\n",
       "      <td>1</td>\n",
       "      <td>0</td>\n",
       "      <td>7</td>\n",
       "      <td>1</td>\n",
       "    </tr>\n",
       "    <tr>\n",
       "      <th>4</th>\n",
       "      <td>65.0</td>\n",
       "      <td>1</td>\n",
       "      <td>160</td>\n",
       "      <td>1</td>\n",
       "      <td>20</td>\n",
       "      <td>0</td>\n",
       "      <td>327000.00</td>\n",
       "      <td>2.7</td>\n",
       "      <td>116</td>\n",
       "      <td>0</td>\n",
       "      <td>0</td>\n",
       "      <td>8</td>\n",
       "      <td>1</td>\n",
       "    </tr>\n",
       "    <tr>\n",
       "      <th>...</th>\n",
       "      <td>...</td>\n",
       "      <td>...</td>\n",
       "      <td>...</td>\n",
       "      <td>...</td>\n",
       "      <td>...</td>\n",
       "      <td>...</td>\n",
       "      <td>...</td>\n",
       "      <td>...</td>\n",
       "      <td>...</td>\n",
       "      <td>...</td>\n",
       "      <td>...</td>\n",
       "      <td>...</td>\n",
       "      <td>...</td>\n",
       "    </tr>\n",
       "    <tr>\n",
       "      <th>294</th>\n",
       "      <td>62.0</td>\n",
       "      <td>0</td>\n",
       "      <td>61</td>\n",
       "      <td>1</td>\n",
       "      <td>38</td>\n",
       "      <td>1</td>\n",
       "      <td>155000.00</td>\n",
       "      <td>1.1</td>\n",
       "      <td>143</td>\n",
       "      <td>1</td>\n",
       "      <td>1</td>\n",
       "      <td>270</td>\n",
       "      <td>0</td>\n",
       "    </tr>\n",
       "    <tr>\n",
       "      <th>295</th>\n",
       "      <td>55.0</td>\n",
       "      <td>0</td>\n",
       "      <td>1820</td>\n",
       "      <td>0</td>\n",
       "      <td>38</td>\n",
       "      <td>0</td>\n",
       "      <td>270000.00</td>\n",
       "      <td>1.2</td>\n",
       "      <td>139</td>\n",
       "      <td>0</td>\n",
       "      <td>0</td>\n",
       "      <td>271</td>\n",
       "      <td>0</td>\n",
       "    </tr>\n",
       "    <tr>\n",
       "      <th>296</th>\n",
       "      <td>45.0</td>\n",
       "      <td>0</td>\n",
       "      <td>2060</td>\n",
       "      <td>1</td>\n",
       "      <td>60</td>\n",
       "      <td>0</td>\n",
       "      <td>742000.00</td>\n",
       "      <td>0.8</td>\n",
       "      <td>138</td>\n",
       "      <td>0</td>\n",
       "      <td>0</td>\n",
       "      <td>278</td>\n",
       "      <td>0</td>\n",
       "    </tr>\n",
       "    <tr>\n",
       "      <th>297</th>\n",
       "      <td>45.0</td>\n",
       "      <td>0</td>\n",
       "      <td>2413</td>\n",
       "      <td>0</td>\n",
       "      <td>38</td>\n",
       "      <td>0</td>\n",
       "      <td>140000.00</td>\n",
       "      <td>1.4</td>\n",
       "      <td>140</td>\n",
       "      <td>1</td>\n",
       "      <td>1</td>\n",
       "      <td>280</td>\n",
       "      <td>0</td>\n",
       "    </tr>\n",
       "    <tr>\n",
       "      <th>298</th>\n",
       "      <td>50.0</td>\n",
       "      <td>0</td>\n",
       "      <td>196</td>\n",
       "      <td>0</td>\n",
       "      <td>45</td>\n",
       "      <td>0</td>\n",
       "      <td>395000.00</td>\n",
       "      <td>1.6</td>\n",
       "      <td>136</td>\n",
       "      <td>1</td>\n",
       "      <td>1</td>\n",
       "      <td>285</td>\n",
       "      <td>0</td>\n",
       "    </tr>\n",
       "  </tbody>\n",
       "</table>\n",
       "<p>299 rows × 13 columns</p>\n",
       "</div>"
      ],
      "text/plain": [
       "      age  anaemia  creatinine_phosphokinase  diabetes  ejection_fraction  \\\n",
       "0    75.0        0                       582         0                 20   \n",
       "1    55.0        0                      7861         0                 38   \n",
       "2    65.0        0                       146         0                 20   \n",
       "3    50.0        1                       111         0                 20   \n",
       "4    65.0        1                       160         1                 20   \n",
       "..    ...      ...                       ...       ...                ...   \n",
       "294  62.0        0                        61         1                 38   \n",
       "295  55.0        0                      1820         0                 38   \n",
       "296  45.0        0                      2060         1                 60   \n",
       "297  45.0        0                      2413         0                 38   \n",
       "298  50.0        0                       196         0                 45   \n",
       "\n",
       "     high_blood_pressure  platelets  serum_creatinine  serum_sodium  sex  \\\n",
       "0                      1  265000.00               1.9           130    1   \n",
       "1                      0  263358.03               1.1           136    1   \n",
       "2                      0  162000.00               1.3           129    1   \n",
       "3                      0  210000.00               1.9           137    1   \n",
       "4                      0  327000.00               2.7           116    0   \n",
       "..                   ...        ...               ...           ...  ...   \n",
       "294                    1  155000.00               1.1           143    1   \n",
       "295                    0  270000.00               1.2           139    0   \n",
       "296                    0  742000.00               0.8           138    0   \n",
       "297                    0  140000.00               1.4           140    1   \n",
       "298                    0  395000.00               1.6           136    1   \n",
       "\n",
       "     smoking  time  DEATH_EVENT  \n",
       "0          0     4            1  \n",
       "1          0     6            1  \n",
       "2          1     7            1  \n",
       "3          0     7            1  \n",
       "4          0     8            1  \n",
       "..       ...   ...          ...  \n",
       "294        1   270            0  \n",
       "295        0   271            0  \n",
       "296        0   278            0  \n",
       "297        1   280            0  \n",
       "298        1   285            0  \n",
       "\n",
       "[299 rows x 13 columns]"
      ]
     },
     "execution_count": 38,
     "metadata": {},
     "output_type": "execute_result"
    }
   ],
   "source": [
    "auto = df[['age', 'anaemia', 'creatinine_phosphokinase', 'diabetes',\n",
    "       'ejection_fraction', 'high_blood_pressure', 'platelets',\n",
    "       'serum_creatinine', 'serum_sodium', 'sex', 'smoking', 'time',\n",
    "       'DEATH_EVENT']]\n",
    "auto"
   ]
  },
  {
   "cell_type": "code",
   "execution_count": 14,
   "id": "f234ad71",
   "metadata": {},
   "outputs": [
    {
     "data": {
      "text/plain": [
       "(299, 13)"
      ]
     },
     "execution_count": 14,
     "metadata": {},
     "output_type": "execute_result"
    }
   ],
   "source": [
    "auto.shape"
   ]
  },
  {
   "cell_type": "code",
   "execution_count": 24,
   "id": "83c17d9b",
   "metadata": {
    "scrolled": true
   },
   "outputs": [
    {
     "data": {
      "text/html": [
       "<div>\n",
       "<style scoped>\n",
       "    .dataframe tbody tr th:only-of-type {\n",
       "        vertical-align: middle;\n",
       "    }\n",
       "\n",
       "    .dataframe tbody tr th {\n",
       "        vertical-align: top;\n",
       "    }\n",
       "\n",
       "    .dataframe thead th {\n",
       "        text-align: right;\n",
       "    }\n",
       "</style>\n",
       "<table border=\"1\" class=\"dataframe\">\n",
       "  <thead>\n",
       "    <tr style=\"text-align: right;\">\n",
       "      <th></th>\n",
       "      <th>age</th>\n",
       "      <th>anaemia</th>\n",
       "      <th>creatinine_phosphokinase</th>\n",
       "      <th>diabetes</th>\n",
       "      <th>ejection_fraction</th>\n",
       "      <th>high_blood_pressure</th>\n",
       "      <th>platelets</th>\n",
       "      <th>serum_creatinine</th>\n",
       "      <th>serum_sodium</th>\n",
       "      <th>sex</th>\n",
       "      <th>smoking</th>\n",
       "      <th>time</th>\n",
       "      <th>DEATH_EVENT</th>\n",
       "    </tr>\n",
       "  </thead>\n",
       "  <tbody>\n",
       "    <tr>\n",
       "      <th>0</th>\n",
       "      <td>75.0</td>\n",
       "      <td>0</td>\n",
       "      <td>582</td>\n",
       "      <td>0</td>\n",
       "      <td>20</td>\n",
       "      <td>1</td>\n",
       "      <td>265000.00</td>\n",
       "      <td>1.9</td>\n",
       "      <td>130</td>\n",
       "      <td>1</td>\n",
       "      <td>0</td>\n",
       "      <td>4</td>\n",
       "      <td>1</td>\n",
       "    </tr>\n",
       "    <tr>\n",
       "      <th>1</th>\n",
       "      <td>55.0</td>\n",
       "      <td>0</td>\n",
       "      <td>7861</td>\n",
       "      <td>0</td>\n",
       "      <td>38</td>\n",
       "      <td>0</td>\n",
       "      <td>263358.03</td>\n",
       "      <td>1.1</td>\n",
       "      <td>136</td>\n",
       "      <td>1</td>\n",
       "      <td>0</td>\n",
       "      <td>6</td>\n",
       "      <td>1</td>\n",
       "    </tr>\n",
       "    <tr>\n",
       "      <th>2</th>\n",
       "      <td>65.0</td>\n",
       "      <td>0</td>\n",
       "      <td>146</td>\n",
       "      <td>0</td>\n",
       "      <td>20</td>\n",
       "      <td>0</td>\n",
       "      <td>162000.00</td>\n",
       "      <td>1.3</td>\n",
       "      <td>129</td>\n",
       "      <td>1</td>\n",
       "      <td>1</td>\n",
       "      <td>7</td>\n",
       "      <td>1</td>\n",
       "    </tr>\n",
       "    <tr>\n",
       "      <th>3</th>\n",
       "      <td>50.0</td>\n",
       "      <td>1</td>\n",
       "      <td>111</td>\n",
       "      <td>0</td>\n",
       "      <td>20</td>\n",
       "      <td>0</td>\n",
       "      <td>210000.00</td>\n",
       "      <td>1.9</td>\n",
       "      <td>137</td>\n",
       "      <td>1</td>\n",
       "      <td>0</td>\n",
       "      <td>7</td>\n",
       "      <td>1</td>\n",
       "    </tr>\n",
       "    <tr>\n",
       "      <th>4</th>\n",
       "      <td>65.0</td>\n",
       "      <td>1</td>\n",
       "      <td>160</td>\n",
       "      <td>1</td>\n",
       "      <td>20</td>\n",
       "      <td>0</td>\n",
       "      <td>327000.00</td>\n",
       "      <td>2.7</td>\n",
       "      <td>116</td>\n",
       "      <td>0</td>\n",
       "      <td>0</td>\n",
       "      <td>8</td>\n",
       "      <td>1</td>\n",
       "    </tr>\n",
       "  </tbody>\n",
       "</table>\n",
       "</div>"
      ],
      "text/plain": [
       "    age  anaemia  creatinine_phosphokinase  diabetes  ejection_fraction  \\\n",
       "0  75.0        0                       582         0                 20   \n",
       "1  55.0        0                      7861         0                 38   \n",
       "2  65.0        0                       146         0                 20   \n",
       "3  50.0        1                       111         0                 20   \n",
       "4  65.0        1                       160         1                 20   \n",
       "\n",
       "   high_blood_pressure  platelets  serum_creatinine  serum_sodium  sex  \\\n",
       "0                    1  265000.00               1.9           130    1   \n",
       "1                    0  263358.03               1.1           136    1   \n",
       "2                    0  162000.00               1.3           129    1   \n",
       "3                    0  210000.00               1.9           137    1   \n",
       "4                    0  327000.00               2.7           116    0   \n",
       "\n",
       "   smoking  time  DEATH_EVENT  \n",
       "0        0     4            1  \n",
       "1        0     6            1  \n",
       "2        1     7            1  \n",
       "3        0     7            1  \n",
       "4        0     8            1  "
      ]
     },
     "execution_count": 24,
     "metadata": {},
     "output_type": "execute_result"
    }
   ],
   "source": [
    "auto.head()"
   ]
  },
  {
   "cell_type": "code",
   "execution_count": 25,
   "id": "ecfb4097",
   "metadata": {
    "execution": {
     "iopub.execute_input": "2023-02-05T09:31:02.613976Z",
     "iopub.status.busy": "2023-02-05T09:31:02.613521Z",
     "iopub.status.idle": "2023-02-05T09:31:03.534106Z",
     "shell.execute_reply": "2023-02-05T09:31:03.532512Z"
    },
    "papermill": {
     "duration": 0.94643,
     "end_time": "2023-02-05T09:31:03.537151",
     "exception": false,
     "start_time": "2023-02-05T09:31:02.590721",
     "status": "completed"
    },
    "tags": []
   },
   "outputs": [
    {
     "data": {
      "image/png": "[encoded data removed]",
      "text/plain": [
       "<Figure size 576x576 with 1 Axes>"
      ]
     },
     "metadata": {},
     "output_type": "display_data"
    }
   ],
   "source": [
    "plt.figure(figsize=(8,8))\n",
    "sns.heatmap(df.corr(), annot=True, cbar=False, cmap='Reds', fmt='.2f')\n",
    "plt.title(\"Correlation between the columns\")\n",
    "plt.show()"
   ]
  },
  {
   "cell_type": "markdown",
   "id": "07b96847",
   "metadata": {
    "papermill": {
     "duration": 0.021864,
     "end_time": "2023-02-05T09:31:03.581993",
     "exception": false,
     "start_time": "2023-02-05T09:31:03.560129",
     "status": "completed"
    },
    "tags": []
   },
   "source": [
    "The correlation matrix is only a good indicator when the relationship are linear.\n",
    "\n",
    "We saw before that have a platelet count within normal range improve the survival rate. But here, the correlation is really low\n",
    "\n",
    "Except between sex and smoking, the correlation between the variables is really low, a PCA will probably not help."
   ]
  },
  {
   "cell_type": "markdown",
   "id": "5503ffc3",
   "metadata": {},
   "source": [
    "# ------------------------------------------------------------------"
   ]
  },
  {
   "cell_type": "code",
   "execution_count": 40,
   "id": "41b96f26",
   "metadata": {},
   "outputs": [],
   "source": [
    "from sklearn.model_selection import train_test_split\n",
    "\n",
    "# We specify this so that the train and test data set always have the same rows, respectively\n",
    "np.random.seed(0)\n",
    "df_train, df_test = train_test_split(auto, train_size = 0.7, test_size = 0.3, random_state = 100)"
   ]
  },
  {
   "cell_type": "code",
   "execution_count": 41,
   "id": "0ac37924",
   "metadata": {},
   "outputs": [],
   "source": [
    "from sklearn.preprocessing import MinMaxScaler\n",
    "scaler = MinMaxScaler()"
   ]
  },
  {
   "cell_type": "code",
   "execution_count": 42,
   "id": "cba80d28",
   "metadata": {},
   "outputs": [],
   "source": [
    "y_train = df_train.pop('DEATH_EVENT') #dependent variable lai chutyaune\n",
    "X_train = df_train\n"
   ]
  },
  {
   "cell_type": "markdown",
   "id": "88ea4284",
   "metadata": {},
   "source": [
    "# RFE"
   ]
  },
  {
   "cell_type": "code",
   "execution_count": 43,
   "id": "019bc056",
   "metadata": {},
   "outputs": [],
   "source": [
    "# Importing RFE and LinearRegression\n",
    "from sklearn.feature_selection import RFE  \n",
    "from sklearn.linear_model import LinearRegression"
   ]
  },
  {
   "cell_type": "code",
   "execution_count": 44,
   "id": "59ce1064",
   "metadata": {},
   "outputs": [
    {
     "name": "stderr",
     "output_type": "stream",
     "text": [
      "D:\\Anaconda32021.11\\lib\\site-packages\\sklearn\\utils\\validation.py:70: FutureWarning: Pass n_features_to_select=10 as keyword args. From version 1.0 (renaming of 0.25) passing these as positional arguments will result in an error\n",
      "  warnings.warn(f\"Pass {args_msg} as keyword args. From version \"\n"
     ]
    }
   ],
   "source": [
    "# Running RFE with the output number of the variable equal to 10\n",
    "lm = LinearRegression()\n",
    "lm.fit(X_train, y_train)\n",
    "\n",
    "rfe = RFE(lm, 10)             # running RFE \n",
    "rfe = rfe.fit(X_train, y_train)"
   ]
  },
  {
   "cell_type": "code",
   "execution_count": 45,
   "id": "71e0f80e",
   "metadata": {
    "scrolled": true
   },
   "outputs": [
    {
     "data": {
      "text/plain": [
       "[('age', True, 1),\n",
       " ('anaemia', True, 1),\n",
       " ('creatinine_phosphokinase', False, 2),\n",
       " ('diabetes', True, 1),\n",
       " ('ejection_fraction', True, 1),\n",
       " ('high_blood_pressure', True, 1),\n",
       " ('platelets', False, 3),\n",
       " ('serum_creatinine', True, 1),\n",
       " ('serum_sodium', True, 1),\n",
       " ('sex', True, 1),\n",
       " ('smoking', True, 1),\n",
       " ('time', True, 1)]"
      ]
     },
     "execution_count": 45,
     "metadata": {},
     "output_type": "execute_result"
    }
   ],
   "source": [
    "list(zip(X_train.columns,rfe.support_,rfe.ranking_))"
   ]
  },
  {
   "cell_type": "code",
   "execution_count": 46,
   "id": "7f8b4e0f",
   "metadata": {},
   "outputs": [
    {
     "data": {
      "text/plain": [
       "Index(['age', 'anaemia', 'diabetes', 'ejection_fraction',\n",
       "       'high_blood_pressure', 'serum_creatinine', 'serum_sodium', 'sex',\n",
       "       'smoking', 'time'],\n",
       "      dtype='object')"
      ]
     },
     "execution_count": 46,
     "metadata": {},
     "output_type": "execute_result"
    }
   ],
   "source": [
    "col = X_train.columns[rfe.support_]\n",
    "col"
   ]
  },
  {
   "cell_type": "markdown",
   "id": "f9cf0f23",
   "metadata": {},
   "source": [
    "Creatinine_phosphokinase and platelets are dropped"
   ]
  },
  {
   "cell_type": "markdown",
   "id": "abcc1dd3",
   "metadata": {},
   "source": [
    "# Building model using statsmodel for the detailed statistics"
   ]
  },
  {
   "cell_type": "code",
   "execution_count": 47,
   "id": "41ca58ac",
   "metadata": {},
   "outputs": [],
   "source": [
    "# Creating X_test dataframe with RFE selected variables\n",
    "X_train_rfe = X_train[col]"
   ]
  },
  {
   "cell_type": "code",
   "execution_count": 48,
   "id": "d9f008f8",
   "metadata": {
    "scrolled": false
   },
   "outputs": [
    {
     "name": "stderr",
     "output_type": "stream",
     "text": [
      "D:\\Anaconda32021.11\\lib\\site-packages\\statsmodels\\tsa\\tsatools.py:142: FutureWarning: In a future version of pandas all arguments of concat except for the argument 'objs' will be keyword-only\n",
      "  x = pd.concat(x[::order], 1)\n"
     ]
    }
   ],
   "source": [
    "# Adding a constant variable \n",
    "import statsmodels.api as sm  \n",
    "X_train_rfe = sm.add_constant(X_train_rfe)"
   ]
  },
  {
   "cell_type": "code",
   "execution_count": 77,
   "id": "ae86763f",
   "metadata": {},
   "outputs": [],
   "source": [
    "lm = sm.OLS(y_train,X_train_rfe).fit()   # Running the linear model"
   ]
  },
  {
   "cell_type": "code",
   "execution_count": 50,
   "id": "1647a610",
   "metadata": {
    "scrolled": true
   },
   "outputs": [
    {
     "name": "stdout",
     "output_type": "stream",
     "text": [
      "                            OLS Regression Results                            \n",
      "==============================================================================\n",
      "Dep. Variable:            DEATH_EVENT   R-squared:                       0.404\n",
      "Model:                            OLS   Adj. R-squared:                  0.373\n",
      "Method:                 Least Squares   F-statistic:                     13.40\n",
      "Date:                Wed, 08 Feb 2023   Prob (F-statistic):           7.54e-18\n",
      "Time:                        13:00:04   Log-Likelihood:                -81.578\n",
      "No. Observations:                 209   AIC:                             185.2\n",
      "Df Residuals:                     198   BIC:                             221.9\n",
      "Df Model:                          10                                         \n",
      "Covariance Type:            nonrobust                                         \n",
      "=======================================================================================\n",
      "                          coef    std err          t      P>|t|      [0.025      0.975]\n",
      "---------------------------------------------------------------------------------------\n",
      "const                   1.5871      0.900      1.764      0.079      -0.187       3.361\n",
      "age                     0.0064      0.002      2.686      0.008       0.002       0.011\n",
      "anaemia                -0.0411      0.053     -0.776      0.439      -0.146       0.063\n",
      "diabetes                0.0214      0.052      0.409      0.683      -0.082       0.125\n",
      "ejection_fraction      -0.0119      0.002     -5.167      0.000      -0.016      -0.007\n",
      "high_blood_pressure    -0.0143      0.055     -0.258      0.797      -0.123       0.095\n",
      "serum_creatinine        0.0485      0.028      1.705      0.090      -0.008       0.105\n",
      "serum_sodium           -0.0064      0.006     -0.992      0.322      -0.019       0.006\n",
      "sex                    -0.0942      0.060     -1.558      0.121      -0.213       0.025\n",
      "smoking                 0.0191      0.062      0.310      0.757      -0.102       0.140\n",
      "time                   -0.0027      0.000     -7.440      0.000      -0.003      -0.002\n",
      "==============================================================================\n",
      "Omnibus:                        8.149   Durbin-Watson:                   2.050\n",
      "Prob(Omnibus):                  0.017   Jarque-Bera (JB):                7.069\n",
      "Skew:                           0.373   Prob(JB):                       0.0292\n",
      "Kurtosis:                       2.494   Cond. No.                     7.30e+03\n",
      "==============================================================================\n",
      "\n",
      "Notes:\n",
      "[1] Standard Errors assume that the covariance matrix of the errors is correctly specified.\n",
      "[2] The condition number is large, 7.3e+03. This might indicate that there are\n",
      "strong multicollinearity or other numerical problems.\n"
     ]
    }
   ],
   "source": [
    "#Let's see the summary of our linear model\n",
    "print(lm.summary())"
   ]
  },
  {
   "cell_type": "code",
   "execution_count": 62,
   "id": "a88ac9c5",
   "metadata": {},
   "outputs": [
    {
     "data": {
      "text/html": [
       "<div>\n",
       "<style scoped>\n",
       "    .dataframe tbody tr th:only-of-type {\n",
       "        vertical-align: middle;\n",
       "    }\n",
       "\n",
       "    .dataframe tbody tr th {\n",
       "        vertical-align: top;\n",
       "    }\n",
       "\n",
       "    .dataframe thead th {\n",
       "        text-align: right;\n",
       "    }\n",
       "</style>\n",
       "<table border=\"1\" class=\"dataframe\">\n",
       "  <thead>\n",
       "    <tr style=\"text-align: right;\">\n",
       "      <th></th>\n",
       "      <th>Features</th>\n",
       "      <th>VIF</th>\n",
       "    </tr>\n",
       "  </thead>\n",
       "  <tbody>\n",
       "    <tr>\n",
       "      <th>0</th>\n",
       "      <td>const</td>\n",
       "      <td>1254.17</td>\n",
       "    </tr>\n",
       "    <tr>\n",
       "      <th>8</th>\n",
       "      <td>sex</td>\n",
       "      <td>1.29</td>\n",
       "    </tr>\n",
       "    <tr>\n",
       "      <th>9</th>\n",
       "      <td>smoking</td>\n",
       "      <td>1.28</td>\n",
       "    </tr>\n",
       "    <tr>\n",
       "      <th>10</th>\n",
       "      <td>time</td>\n",
       "      <td>1.20</td>\n",
       "    </tr>\n",
       "    <tr>\n",
       "      <th>1</th>\n",
       "      <td>age</td>\n",
       "      <td>1.16</td>\n",
       "    </tr>\n",
       "    <tr>\n",
       "      <th>6</th>\n",
       "      <td>serum_creatinine</td>\n",
       "      <td>1.16</td>\n",
       "    </tr>\n",
       "    <tr>\n",
       "      <th>7</th>\n",
       "      <td>serum_sodium</td>\n",
       "      <td>1.14</td>\n",
       "    </tr>\n",
       "    <tr>\n",
       "      <th>4</th>\n",
       "      <td>ejection_fraction</td>\n",
       "      <td>1.10</td>\n",
       "    </tr>\n",
       "    <tr>\n",
       "      <th>5</th>\n",
       "      <td>high_blood_pressure</td>\n",
       "      <td>1.08</td>\n",
       "    </tr>\n",
       "    <tr>\n",
       "      <th>2</th>\n",
       "      <td>anaemia</td>\n",
       "      <td>1.07</td>\n",
       "    </tr>\n",
       "    <tr>\n",
       "      <th>3</th>\n",
       "      <td>diabetes</td>\n",
       "      <td>1.05</td>\n",
       "    </tr>\n",
       "  </tbody>\n",
       "</table>\n",
       "</div>"
      ],
      "text/plain": [
       "               Features      VIF\n",
       "0                 const  1254.17\n",
       "8                   sex     1.29\n",
       "9               smoking     1.28\n",
       "10                 time     1.20\n",
       "1                   age     1.16\n",
       "6      serum_creatinine     1.16\n",
       "7          serum_sodium     1.14\n",
       "4     ejection_fraction     1.10\n",
       "5   high_blood_pressure     1.08\n",
       "2               anaemia     1.07\n",
       "3              diabetes     1.05"
      ]
     },
     "execution_count": 62,
     "metadata": {},
     "output_type": "execute_result"
    }
   ],
   "source": [
    "from statsmodels.stats.outliers_influence import variance_inflation_factor \n",
    "\n",
    "vif = pd.DataFrame()\n",
    "X = X_train_rfe\n",
    "\n",
    "vif['Features'] = X.columns\n",
    "vif['VIF'] = [variance_inflation_factor(X.values, i) for i in range(X.shape[1])]\n",
    "vif['VIF'] = round(vif['VIF'], 2)\n",
    "vif = vif.sort_values(by = \"VIF\", ascending = False)\n",
    "vif"
   ]
  },
  {
   "cell_type": "markdown",
   "id": "8ac93f6e",
   "metadata": {},
   "source": [
    "#### All the classes have got values less than 5, so VIF is not a suitable option.\n",
    "#### At the same time, from the above computations, we came to know that diabetes had good relation to the death event from the heart failure. But, here, it is showing that we have to eliminate it. So, OLS is not a good option.\n",
    "#### To sum it all up, Linear Regression doesn't well-fit as the model. So, we look for other options."
   ]
  },
  {
   "cell_type": "markdown",
   "id": "60886d9f",
   "metadata": {},
   "source": [
    "# ------------------------------------------------------------------\n"
   ]
  },
  {
   "cell_type": "markdown",
   "id": "61ceec90",
   "metadata": {
    "papermill": {
     "duration": 0.021372,
     "end_time": "2023-02-05T09:31:03.625137",
     "exception": false,
     "start_time": "2023-02-05T09:31:03.603765",
     "status": "completed"
    },
    "tags": []
   },
   "source": [
    "# Let's use other models"
   ]
  },
  {
   "cell_type": "code",
   "execution_count": 63,
   "id": "9599448f",
   "metadata": {
    "execution": {
     "iopub.execute_input": "2023-02-05T09:31:03.671648Z",
     "iopub.status.busy": "2023-02-05T09:31:03.671003Z",
     "iopub.status.idle": "2023-02-05T09:31:03.945074Z",
     "shell.execute_reply": "2023-02-05T09:31:03.943745Z"
    },
    "papermill": {
     "duration": 0.300893,
     "end_time": "2023-02-05T09:31:03.948199",
     "exception": false,
     "start_time": "2023-02-05T09:31:03.647306",
     "status": "completed"
    },
    "tags": []
   },
   "outputs": [],
   "source": [
    "from sklearn.model_selection import train_test_split, cross_val_predict\n",
    "from sklearn.linear_model import LogisticRegression\n",
    "from sklearn.metrics import accuracy_score, confusion_matrix, ConfusionMatrixDisplay, classification_report"
   ]
  },
  {
   "cell_type": "code",
   "execution_count": 199,
   "id": "22057099",
   "metadata": {
    "execution": {
     "iopub.execute_input": "2023-02-05T09:31:03.998440Z",
     "iopub.status.busy": "2023-02-05T09:31:03.997238Z",
     "iopub.status.idle": "2023-02-05T09:31:04.003992Z",
     "shell.execute_reply": "2023-02-05T09:31:04.002919Z"
    },
    "papermill": {
     "duration": 0.032603,
     "end_time": "2023-02-05T09:31:04.006405",
     "exception": false,
     "start_time": "2023-02-05T09:31:03.973802",
     "status": "completed"
    },
    "tags": []
   },
   "outputs": [],
   "source": [
    "y = df['DEATH_EVENT'].copy()\n",
    "X = df.drop('DEATH_EVENT', axis=1)"
   ]
  },
  {
   "cell_type": "code",
   "execution_count": 204,
   "id": "5241b8eb",
   "metadata": {
    "execution": {
     "iopub.execute_input": "2023-02-05T09:31:04.054602Z",
     "iopub.status.busy": "2023-02-05T09:31:04.054175Z",
     "iopub.status.idle": "2023-02-05T09:31:06.200368Z",
     "shell.execute_reply": "2023-02-05T09:31:06.198521Z"
    },
    "papermill": {
     "duration": 2.174872,
     "end_time": "2023-02-05T09:31:06.204121",
     "exception": false,
     "start_time": "2023-02-05T09:31:04.029249",
     "status": "completed"
    },
    "scrolled": true,
    "tags": []
   },
   "outputs": [
    {
     "name": "stdout",
     "output_type": "stream",
     "text": [
      "the accuracy for the logistic regression is 0.793\n"
     ]
    }
   ],
   "source": [
    "model = LogisticRegression()\n",
    "\n",
    "y_pred = cross_val_predict(model, X, y, n_jobs=-1, cv=10)\n",
    "\n",
    "y_proba = cross_val_predict(model, X, y, n_jobs=-1, cv=10, method='predict_proba')\n",
    "acc = accuracy_score(y, y_pred)\n",
    "\n",
    "print(f'the accuracy for the logistic regression is {round(acc, 3)}')"
   ]
  },
  {
   "cell_type": "code",
   "execution_count": 205,
   "id": "1ddc280f",
   "metadata": {},
   "outputs": [
    {
     "name": "stdout",
     "output_type": "stream",
     "text": [
      "the accuracy for the logistic regression is 0.749\n"
     ]
    }
   ],
   "source": [
    "model = RandomForestClassifier()\n",
    "\n",
    "y_pred = cross_val_predict(model, X, y, n_jobs=-1, cv=10)\n",
    "\n",
    "y_proba = cross_val_predict(model, X, y, n_jobs=-1, cv=10, method='predict_proba')\n",
    "acc = accuracy_score(y, y_pred)\n",
    "\n",
    "print(f'the accuracy for the random forest is {round(acc, 3)}')"
   ]
  },
  {
   "cell_type": "code",
   "execution_count": 214,
   "id": "79930054",
   "metadata": {},
   "outputs": [
    {
     "name": "stdout",
     "output_type": "stream",
     "text": [
      "the accuracy for the gradient boosting is 0.716\n"
     ]
    }
   ],
   "source": [
    "model = GradientBoostingClassifier()\n",
    "\n",
    "y_pred = cross_val_predict(model, X, y, n_jobs=-1, cv=10)\n",
    "\n",
    "y_proba = cross_val_predict(model, X, y, n_jobs=-1, cv=10, method='predict_proba')\n",
    "acc = accuracy_score(y, y_pred)\n",
    "\n",
    "print(f'the accuracy for the gradient boosting is {round(acc, 3)}')"
   ]
  },
  {
   "cell_type": "markdown",
   "id": "7d10fff9",
   "metadata": {},
   "source": [
    "### From above three, Logistic Regression model gives us better result."
   ]
  },
  {
   "cell_type": "markdown",
   "id": "1f92ca7e",
   "metadata": {
    "papermill": {
     "duration": 0.02138,
     "end_time": "2023-02-05T09:31:06.247651",
     "exception": false,
     "start_time": "2023-02-05T09:31:06.226271",
     "status": "completed"
    },
    "tags": []
   },
   "source": [
    "# Let's Evaluate the Logistic Regression Model"
   ]
  },
  {
   "cell_type": "code",
   "execution_count": 66,
   "id": "483d8e07",
   "metadata": {
    "execution": {
     "iopub.execute_input": "2023-02-05T09:31:06.293882Z",
     "iopub.status.busy": "2023-02-05T09:31:06.292794Z",
     "iopub.status.idle": "2023-02-05T09:31:06.468088Z",
     "shell.execute_reply": "2023-02-05T09:31:06.467163Z"
    },
    "papermill": {
     "duration": 0.201341,
     "end_time": "2023-02-05T09:31:06.470733",
     "exception": false,
     "start_time": "2023-02-05T09:31:06.269392",
     "status": "completed"
    },
    "tags": []
   },
   "outputs": [
    {
     "data": {
      "image/png": "[encoded data removed]",
      "text/plain": [
       "<Figure size 576x576 with 1 Axes>"
      ]
     },
     "metadata": {},
     "output_type": "display_data"
    }
   ],
   "source": [
    "conf_mat = confusion_matrix(y, y_pred)\n",
    "\n",
    "plt.figure(figsize=(8,8))\n",
    "sns.heatmap(conf_mat, annot=True, cbar=None, cmap='Reds', fmt='.0f')\n",
    "plt.ylabel('True Label')\n",
    "plt.xlabel('Predicted Label')\n",
    "plt.title('Confusion Matrix of the Logistic Regression Model')\n",
    "plt.show()"
   ]
  },
  {
   "cell_type": "code",
   "execution_count": 209,
   "id": "8c1c6461",
   "metadata": {
    "execution": {
     "iopub.execute_input": "2023-02-05T09:31:06.518292Z",
     "iopub.status.busy": "2023-02-05T09:31:06.517863Z",
     "iopub.status.idle": "2023-02-05T09:31:06.529392Z",
     "shell.execute_reply": "2023-02-05T09:31:06.527761Z"
    },
    "papermill": {
     "duration": 0.038514,
     "end_time": "2023-02-05T09:31:06.531873",
     "exception": false,
     "start_time": "2023-02-05T09:31:06.493359",
     "status": "completed"
    },
    "tags": []
   },
   "outputs": [
    {
     "name": "stdout",
     "output_type": "stream",
     "text": [
      "              precision    recall  f1-score   support\n",
      "\n",
      "           0       0.80      0.79      0.79       203\n",
      "           1       0.56      0.57      0.57        96\n",
      "\n",
      "    accuracy                           0.72       299\n",
      "   macro avg       0.68      0.68      0.68       299\n",
      "weighted avg       0.72      0.72      0.72       299\n",
      "\n"
     ]
    }
   ],
   "source": [
    "print(classification_report(y, y_pred))"
   ]
  },
  {
   "cell_type": "code",
   "execution_count": 208,
   "id": "d6688675",
   "metadata": {
    "execution": {
     "iopub.execute_input": "2023-02-05T09:31:06.579605Z",
     "iopub.status.busy": "2023-02-05T09:31:06.578797Z",
     "iopub.status.idle": "2023-02-05T09:31:06.830781Z",
     "shell.execute_reply": "2023-02-05T09:31:06.829527Z"
    },
    "papermill": {
     "duration": 0.279689,
     "end_time": "2023-02-05T09:31:06.834153",
     "exception": false,
     "start_time": "2023-02-05T09:31:06.554464",
     "status": "completed"
    },
    "tags": []
   },
   "outputs": [
    {
     "data": {
      "image/png": "[encoded data removed]",
      "text/plain": [
       "<Figure size 576x432 with 1 Axes>"
      ]
     },
     "metadata": {},
     "output_type": "display_data"
    }
   ],
   "source": [
    "from sklearn.metrics import roc_curve\n",
    "\n",
    "fpr, tpr, _ = roc_curve(y, y_proba[:,1])\n",
    "\n",
    "plt.figure(figsize=(8,6))\n",
    "sns.lineplot(x=fpr, y=tpr, ci=None)\n",
    "sns.lineplot(x=[0,1], y=[0,1], linestyle='--', color='black')\n",
    "plt.title('ROC curve for logistic regression')\n",
    "plt.xlabel('False Positive Rate')\n",
    "plt.ylabel('True Positive Rate')\n",
    "plt.show()"
   ]
  },
  {
   "cell_type": "markdown",
   "id": "b5f2a857",
   "metadata": {
    "papermill": {
     "duration": 0.035707,
     "end_time": "2023-02-05T09:31:06.904466",
     "exception": false,
     "start_time": "2023-02-05T09:31:06.868759",
     "status": "completed"
    },
    "tags": []
   },
   "source": [
    "# Let's try scaling to improve predictions"
   ]
  },
  {
   "cell_type": "code",
   "execution_count": 69,
   "id": "aa9c7ec9",
   "metadata": {
    "execution": {
     "iopub.execute_input": "2023-02-05T09:31:06.961651Z",
     "iopub.status.busy": "2023-02-05T09:31:06.960557Z",
     "iopub.status.idle": "2023-02-05T09:31:06.968481Z",
     "shell.execute_reply": "2023-02-05T09:31:06.967523Z"
    },
    "papermill": {
     "duration": 0.03475,
     "end_time": "2023-02-05T09:31:06.970772",
     "exception": false,
     "start_time": "2023-02-05T09:31:06.936022",
     "status": "completed"
    },
    "tags": []
   },
   "outputs": [
    {
     "data": {
      "text/plain": [
       "Index(['age', 'anaemia', 'creatinine_phosphokinase', 'diabetes',\n",
       "       'ejection_fraction', 'high_blood_pressure', 'platelets',\n",
       "       'serum_creatinine', 'serum_sodium', 'sex', 'smoking', 'time',\n",
       "       'DEATH_EVENT'],\n",
       "      dtype='object')"
      ]
     },
     "execution_count": 69,
     "metadata": {},
     "output_type": "execute_result"
    }
   ],
   "source": [
    "df.columns"
   ]
  },
  {
   "cell_type": "code",
   "execution_count": 90,
   "id": "01871d82",
   "metadata": {
    "execution": {
     "iopub.execute_input": "2023-02-05T09:31:07.019253Z",
     "iopub.status.busy": "2023-02-05T09:31:07.018240Z",
     "iopub.status.idle": "2023-02-05T09:31:07.034563Z",
     "shell.execute_reply": "2023-02-05T09:31:07.033501Z"
    },
    "papermill": {
     "duration": 0.043243,
     "end_time": "2023-02-05T09:31:07.037220",
     "exception": false,
     "start_time": "2023-02-05T09:31:06.993977",
     "status": "completed"
    },
    "tags": []
   },
   "outputs": [],
   "source": [
    "# value_columns = ['creatinine_phosphokinase',\n",
    "#        'ejection_fraction', 'platelets',\n",
    "#        'serum_creatinine', 'serum_sodium', 'time']\n",
    "\n",
    "value_columns = ['age',\n",
    "       'anaemia', 'diabetes', 'high_blood_pressure',\n",
    "    'serum_sodium', 'smoking','time']\n",
    "\n",
    "from sklearn.pipeline import Pipeline\n",
    "from sklearn.preprocessing import StandardScaler, RobustScaler\n",
    "from sklearn.compose import make_column_transformer\n",
    "\n",
    "def create_pipeline(model, model_name, scaler):\n",
    "    preprocessing = make_column_transformer(\n",
    "        (scaler, value_columns),\n",
    "        remainder='passthrough')\n",
    "    \n",
    "    pipeline = Pipeline(steps=[\n",
    "        ('scaling', preprocessing),\n",
    "        (model_name, model)\n",
    "    ])\n",
    "    \n",
    "    return pipeline\n",
    "\n",
    "from sklearn.pipeline import Pipeline\n",
    "from sklearn.preprocessing import StandardScaler, RobustScaler\n",
    "from sklearn.compose import make_column_transformer\n",
    "\n",
    "def create_pipeline(model, model_name, scaler):\n",
    "    preprocessing = make_column_transformer(\n",
    "        (scaler, value_columns),\n",
    "        remainder='passthrough')\n",
    "    \n",
    "    pipeline = Pipeline(steps=[\n",
    "        ('scaling', preprocessing),\n",
    "        (model_name, model)\n",
    "    ])\n",
    "    \n",
    "    return pipeline"
   ]
  },
  {
   "cell_type": "code",
   "execution_count": 91,
   "id": "a4e35ef3",
   "metadata": {
    "execution": {
     "iopub.execute_input": "2023-02-05T09:31:07.086588Z",
     "iopub.status.busy": "2023-02-05T09:31:07.085846Z",
     "iopub.status.idle": "2023-02-05T09:31:07.226710Z",
     "shell.execute_reply": "2023-02-05T09:31:07.225355Z"
    },
    "papermill": {
     "duration": 0.168638,
     "end_time": "2023-02-05T09:31:07.229392",
     "exception": false,
     "start_time": "2023-02-05T09:31:07.060754",
     "status": "completed"
    },
    "tags": []
   },
   "outputs": [],
   "source": [
    "from sklearn.ensemble import RandomForestClassifier, GradientBoostingClassifier"
   ]
  },
  {
   "cell_type": "code",
   "execution_count": 180,
   "id": "d6d4c068",
   "metadata": {
    "execution": {
     "iopub.execute_input": "2023-02-05T09:31:07.277364Z",
     "iopub.status.busy": "2023-02-05T09:31:07.276909Z",
     "iopub.status.idle": "2023-02-05T09:31:07.284409Z",
     "shell.execute_reply": "2023-02-05T09:31:07.283113Z"
    },
    "papermill": {
     "duration": 0.034617,
     "end_time": "2023-02-05T09:31:07.286978",
     "exception": false,
     "start_time": "2023-02-05T09:31:07.252361",
     "status": "completed"
    },
    "tags": []
   },
   "outputs": [],
   "source": [
    "standard = StandardScaler()\n",
    "robust = RobustScaler()\n",
    "\n",
    "boost = GradientBoostingClassifier()\n",
    "forest = RandomForestClassifier()\n",
    "logreg = LogisticRegression()\n",
    "\n",
    "boost_standard = create_pipeline(boost, 'GradientBoosting', standard)\n",
    "forest_standard = create_pipeline(forest, 'RandomForest', robust)\n",
    "logreg_standard = create_pipeline(logreg, 'LogisticRegression',standard)"
   ]
  },
  {
   "cell_type": "markdown",
   "id": "879c88b2",
   "metadata": {
    "papermill": {
     "duration": 0.024095,
     "end_time": "2023-02-05T09:31:07.799290",
     "exception": false,
     "start_time": "2023-02-05T09:31:07.775195",
     "status": "completed"
    },
    "tags": []
   },
   "source": [
    "**Random Forest**"
   ]
  },
  {
   "cell_type": "code",
   "execution_count": 187,
   "id": "02b77ef0",
   "metadata": {
    "execution": {
     "iopub.execute_input": "2023-02-05T09:31:07.848651Z",
     "iopub.status.busy": "2023-02-05T09:31:07.848226Z",
     "iopub.status.idle": "2023-02-05T09:31:08.895962Z",
     "shell.execute_reply": "2023-02-05T09:31:08.894660Z"
    },
    "papermill": {
     "duration": 1.076006,
     "end_time": "2023-02-05T09:31:08.898915",
     "exception": false,
     "start_time": "2023-02-05T09:31:07.822909",
     "status": "completed"
    },
    "tags": []
   },
   "outputs": [
    {
     "name": "stdout",
     "output_type": "stream",
     "text": [
      "The accuracy score for RandomForest after scaling is: 0.773\n"
     ]
    },
    {
     "data": {
      "image/png": "[encoded data removed]",
      "text/plain": [
       "<Figure size 576x576 with 1 Axes>"
      ]
     },
     "metadata": {},
     "output_type": "display_data"
    }
   ],
   "source": [
    "y_pred = cross_val_predict(forest_standard, X, y, cv=10, n_jobs=-1)\n",
    "\n",
    "acc = round(accuracy_score(y, y_pred), 3)\n",
    "\n",
    "print(f'The accuracy score for RandomForest after scaling is: {acc}')\n",
    "\n",
    "mat = confusion_matrix(y, y_pred)\n",
    "plt.figure(figsize=(8,8))\n",
    "sns.heatmap(mat, annot=True, cbar=None, cmap='Reds', fmt='.0f');"
   ]
  },
  {
   "cell_type": "markdown",
   "id": "f039e6cf",
   "metadata": {
    "papermill": {
     "duration": 0.023481,
     "end_time": "2023-02-05T09:31:08.946414",
     "exception": false,
     "start_time": "2023-02-05T09:31:08.922933",
     "status": "completed"
    },
    "tags": []
   },
   "source": [
    "**Gradient Boosting**"
   ]
  },
  {
   "cell_type": "code",
   "execution_count": 179,
   "id": "433a7466",
   "metadata": {
    "execution": {
     "iopub.execute_input": "2023-02-05T09:31:08.995937Z",
     "iopub.status.busy": "2023-02-05T09:31:08.995195Z",
     "iopub.status.idle": "2023-02-05T09:31:09.649152Z",
     "shell.execute_reply": "2023-02-05T09:31:09.647196Z"
    },
    "papermill": {
     "duration": 0.682275,
     "end_time": "2023-02-05T09:31:09.652148",
     "exception": false,
     "start_time": "2023-02-05T09:31:08.969873",
     "status": "completed"
    },
    "tags": []
   },
   "outputs": [
    {
     "name": "stdout",
     "output_type": "stream",
     "text": [
      "The accuracy score of Gradient Boosting after scaling is: 0.719\n"
     ]
    },
    {
     "data": {
      "image/png": "[encoded data removed]",
      "text/plain": [
       "<Figure size 576x576 with 1 Axes>"
      ]
     },
     "metadata": {},
     "output_type": "display_data"
    }
   ],
   "source": [
    "y_pred = cross_val_predict(boost_standard, X, y, cv=10, n_jobs=-1)\n",
    "\n",
    "acc = round(accuracy_score(y, y_pred), 3)\n",
    "\n",
    "print(f\"The accuracy score of Gradient Boosting after scaling is: {acc}\")\n",
    "\n",
    "plt.figure(figsize=(8,8))\n",
    "mat = confusion_matrix(y, y_pred)\n",
    "sns.heatmap(mat, annot=True, cmap='Reds', cbar=None, fmt='.0f');"
   ]
  },
  {
   "cell_type": "markdown",
   "id": "2ec9ceaf",
   "metadata": {},
   "source": [
    "**Logistic Regression**"
   ]
  },
  {
   "cell_type": "code",
   "execution_count": null,
   "id": "709d9b39",
   "metadata": {},
   "outputs": [],
   "source": [
    "y_pred = cross_val_predict(logreg_standard, X, y, n_jobs=-1, cv=10)\n",
    "\n",
    "acc = round(accuracy_score(y, y_pred), 3)\n",
    "\n",
    "print(f\"The accuracy score for Logistic Regression after data scaling is {acc}\")\n",
    "\n",
    "matrix = confusion_matrix(y, y_pred)\n",
    "plt.figure(figsize=(8,8))\n",
    "sns.heatmap(matrix, annot=True, fmt=\".0f\", cbar=None, cmap='Reds');"
   ]
  },
  {
   "cell_type": "code",
   "execution_count": 213,
   "id": "ac241644",
   "metadata": {},
   "outputs": [
    {
     "name": "stdout",
     "output_type": "stream",
     "text": [
      "Predicted Value: 1\n",
      "Actual Value: 1\n"
     ]
    }
   ],
   "source": [
    "print('Predicted Value: {}'.format(round(y_pred[50], 1)))\n",
    "print('Actual Value: {}'.format(y[50]))"
   ]
  },
  {
   "cell_type": "markdown",
   "id": "3d84e151",
   "metadata": {
    "papermill": {
     "duration": 0.025647,
     "end_time": "2023-02-05T09:31:09.702129",
     "exception": false,
     "start_time": "2023-02-05T09:31:09.676482",
     "status": "completed"
    },
    "tags": []
   },
   "source": [
    "# Conclusion"
   ]
  },
  {
   "cell_type": "markdown",
   "id": "5b26e49d",
   "metadata": {
    "papermill": {
     "duration": 0.023502,
     "end_time": "2023-02-05T09:31:09.749870",
     "exception": false,
     "start_time": "2023-02-05T09:31:09.726368",
     "status": "completed"
    },
    "tags": []
   },
   "source": [
    "In this dataset, the logistic regression model gave the best results. \n",
    "Scaling was insignificant."
   ]
  }
 ],
 "metadata": {
  "kernelspec": {
   "display_name": "Python 3 (ipykernel)",
   "language": "python",
   "name": "python3"
  },
  "language_info": {
   "codemirror_mode": {
    "name": "ipython",
    "version": 3
   },
   "file_extension": ".py",
   "mimetype": "text/x-python",
   "name": "python",
   "nbconvert_exporter": "python",
   "pygments_lexer": "ipython3",
   "version": "3.9.7"
  },
  "papermill": {
   "default_parameters": {},
   "duration": 27.581735,
   "end_time": "2023-02-05T09:31:12.395497",
   "environment_variables": {},
   "exception": null,
   "input_path": "__notebook__.ipynb",
   "output_path": "__notebook__.ipynb",
   "parameters": {},
   "start_time": "2023-02-05T09:30:44.813762",
   "version": "2.3.4"
  }
 },
 "nbformat": 4,
 "nbformat_minor": 5
}
